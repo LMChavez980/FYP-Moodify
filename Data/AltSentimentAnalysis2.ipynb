{
 "cells": [
  {
   "cell_type": "code",
   "execution_count": 1,
   "metadata": {},
   "outputs": [],
   "source": [
    "import pandas as pd\n",
    "import numpy as np\n",
    "from nltk.stem import WordNetLemmatizer \n",
    "import re\n",
    "from sklearn.feature_extraction import text\n",
    "from sklearn.feature_extraction.text import TfidfVectorizer\n",
    "from sklearn.model_selection import train_test_split\n",
    "from sklearn.model_selection import cross_val_score\n",
    "from sklearn.metrics import confusion_matrix\n",
    "from sklearn.metrics import accuracy_score\n",
    "from sklearn.metrics import classification_report\n",
    "from sklearn.metrics import precision_score\n",
    "from sklearn.metrics import recall_score\n",
    "from sklearn.metrics import f1_score\n",
    "from sklearn.metrics import plot_roc_curve\n",
    "from sklearn.metrics import plot_precision_recall_curve\n",
    "from sklearn.metrics import plot_confusion_matrix\n",
    "from sklearn.model_selection import KFold\n",
    "from sklearn.naive_bayes import ComplementNB\n",
    "from sklearn.model_selection import GridSearchCV\n",
    "from sklearn.ensemble import RandomForestClassifier\n",
    "from sklearn.pipeline import Pipeline\n",
    "import matplotlib.pyplot as plt"
   ]
  },
  {
   "cell_type": "code",
   "execution_count": 11,
   "metadata": {},
   "outputs": [],
   "source": [
    "contractions = {\"aight\": \"alright\",\n",
    "\"ain't\": \"am not\",\n",
    "\"amn't\": \"am not\",\n",
    "\"aren't\": \"are not\",\n",
    "\"can't\": \"cannot\",\n",
    "\"'cause\": \"because\",\n",
    "\"could've\": \"could have\",\n",
    "\"couldn't\": \"could not\",\n",
    "\"couldn't've\": \"could not have\",\n",
    "\"daren't\": \"dared not\",\n",
    "\"daresn't\": \"dare not\",\n",
    "\"dasn't\": \"dare not\",\n",
    "\"didn't\":\"did not\",\n",
    "\"doesn't\":\"does not\",\n",
    "\"don't\": \"do not\",\n",
    "\"dunno\": \"do not know\",\n",
    "\"d'ye\": \"do you\",\n",
    "\"e'er\":\"ever\",\n",
    "\"'em\": \"them\",\n",
    "\"everybody's\":\"everybody is\",\n",
    "\"everyone's\": \"everyone is\",\n",
    "\"finna\": \"going to\",\n",
    "\"g'day\": \"good day\",\n",
    "\"gimme\":\"give me\",\n",
    "\"giv'n\": \"given\",\n",
    "\"gonna\": \"going to\",\n",
    "\"gon't\": \"go not\",\n",
    "\"gotta\":\"got to\",\n",
    "\"hadn't\":\"had not\",\n",
    "\"had've\":\"had have\",\n",
    "\"hasn't\": \"has not\",\n",
    "\"haven't\":\"have not\",\n",
    "\"he'd\": \"he would\",\n",
    "\"he'll\": \"he will\", \n",
    "\"he's\": \"he is\",\n",
    "\"here's\": \"here is\",\n",
    "\"he've\":\"he have\",\n",
    "\"how'd\": \"how did\", \n",
    "\"howdy\": \"how do you do\",\n",
    "\"how'll\": \"how will\",\n",
    "\"how're\": \"how are\",\n",
    "\"how's\": \"how is\",\n",
    "\"I'd\": \"I would\",\n",
    "\"I'd've\": \"I would have\",\n",
    "\"I'll\": \"I will\",\n",
    "\"I'm\": \"I am\",\n",
    "\"I'm'a\": \"I am about to\",\n",
    "\"I'm'o\": \"I am going to\",\n",
    "\"innit\": \"is it not\",\n",
    "\"I've\": \"I have\",\n",
    "\"isn't\": \"is not\",\n",
    "\"it'd\": \"it would\",\n",
    "\"it'll\": \"it will\",\n",
    "\"it's\": \"it is\",\n",
    "\"iunno\": \"I don't know\",\n",
    "\"kinda\": \"kind of\",\n",
    "\"let's\": \"let us\",\n",
    "\"ma'am\": \"madam\",\n",
    "\"mayn't\": \"may not\",\n",
    "\"may've\": \"may have\",\n",
    "\"methinks\": \"me thinks\",\n",
    "\"mightn't\": \"might not\",\n",
    "\"might've\": \"might have\",\n",
    "\"mustn't\": \"must not\",\n",
    "\"mustn't've\": \"must not have\",\n",
    "\"must've\": \"must have\",\n",
    "\"needn't\":\"need not\",\n",
    "\"nal\" : \"and all\",\n",
    "\"ne'er\": \"never\",\n",
    "\"o'clock\": \"of the clock\",\n",
    "\"o'er\": \"over\",\n",
    "\"ol'\": \"old\",\n",
    "\"oughtn't\": \"ought not\",\n",
    "\"shan't\": \"shall not\",\n",
    "\"she'd\": \"she would\",\n",
    "\"she'll\": \"she will\",\n",
    "\"she's\": \"she is\",\n",
    "\"should've\": \"should have\",\n",
    "\"shouldn't\" :\"should not\",\n",
    "\"shouldn't've\": \"should not have\",\n",
    "\"somebody's\":\"somebody is\",\n",
    "\"someone's\": \"someone is\",\n",
    "\"something's\": \"something is\",\n",
    "\"so're\":\"so are\",\n",
    "\"that'll\":\"that will\",\n",
    "\"that're\": \"that are\",\n",
    "\"that's\": \"that is\",\n",
    "\"that'd\": \"that would\",\n",
    "\"there'd\": \"there would\",\n",
    "\"there'll\":\"there will\",\n",
    "\"there're\": \"there are\",\n",
    "\"there's\": \"there has\",\n",
    "\"these're\": \"these are\",\n",
    "\"these've\": \"these have\",\n",
    "\"they'd\": \"they would\",\n",
    "\"they'll\": \"they will\",\n",
    "\"they're\": \"they are\",\n",
    "\"they've\": \"they have\",\n",
    "\"this's\": \"this is\",\n",
    "\"those're\": \"those are\",\n",
    "\"those've\": \"those have\",\n",
    "\"'tis\": \"it is\",\n",
    "\"to've\": \"to have\",\n",
    "\"'twas\": \"it was\",\n",
    "\"wanna\": \"want to\",\n",
    "\"wasn't\": \"was not\",\n",
    "\"we'd\": \"we would\",\n",
    "\"we'd've\": \"we would have\",\n",
    "\"we'll\": \"we will\",\n",
    "\"we're\": \"we are\",\n",
    "\"we've\": \"we have\", \n",
    "\"weren't\": \"were not\", \n",
    "\"what'd\": \"what did\",\n",
    "\"what'll\": \"what will\",\n",
    "\"what're\": \"what are\",\n",
    "\"what's\": \"what is\",\n",
    "\"what've\": \"what have\",\n",
    "\"when's\": \"when is\",\n",
    "\"where'd\": \"where did\",\n",
    "\"where'll\": \"where will\",\n",
    "\"where're\": \"where are\",\n",
    "\"where's\": \"where is\",\n",
    "\"where've\": \"where have\",\n",
    "\"which'd\": \"which would\",\n",
    "\"which'll\": \"which will\",\n",
    "\"which're\": \"which are\",\n",
    "\"which's\": \"which is\",\n",
    "\"which've\": \"which have\",\n",
    "\"who'd\": \"who would\",\n",
    "\"who'd've\": \"who would have\",\n",
    "\"who'll\": \"who will\",\n",
    "\"who're\": \"who are\",\n",
    "\"who's\": \"who is\",\n",
    "\"who've\": \"who have\",\n",
    "\"why'd\": \"why did\",\n",
    "\"why're\": \"why are\",\n",
    "\"why's\": \"why is\",\n",
    "\"willn't\": \"will not\",\n",
    "\"won't\": \"will not\",\n",
    "\"wonnot\": \"will not\",\n",
    "\"would've\": \"would have\",\n",
    "\"wouldn't\": \"would not\",\n",
    "\"wouldn't've\": \"would not have\",\n",
    "\"y'all\": \"you all\",\n",
    "\"y'all'd've\": \"you all would have\",\n",
    "\"y'all'd'n've\": \"you all would not have\",\n",
    "\"y'all're\": \"you all are\",\n",
    "\"y'at\": \"you at\",\n",
    "\"you'd\": \"you would\",\n",
    "\"you'll\": \"you will\",\n",
    "\"you're\": \"you are\",\n",
    "\"you've\": \"you have\"\n",
    "               }"
   ]
  },
  {
   "cell_type": "code",
   "execution_count": 12,
   "metadata": {},
   "outputs": [],
   "source": [
    "def cal_hm_acc(class_report):\n",
    "    labels = df['lyrics sentiment'].value_counts().index.tolist()\n",
    "    sum_recall = 0\n",
    "    for x in labels: \n",
    "        sum_recall += 1/class_report[x]['recall']\n",
    "    harmonic_mean_acc = 1/((1/len(labels))*(sum_recall))\n",
    "    return harmonic_mean_acc"
   ]
  },
  {
   "cell_type": "code",
   "execution_count": 90,
   "metadata": {
    "scrolled": true
   },
   "outputs": [
    {
     "data": {
      "text/html": [
       "<div>\n",
       "<style scoped>\n",
       "    .dataframe tbody tr th:only-of-type {\n",
       "        vertical-align: middle;\n",
       "    }\n",
       "\n",
       "    .dataframe tbody tr th {\n",
       "        vertical-align: top;\n",
       "    }\n",
       "\n",
       "    .dataframe thead th {\n",
       "        text-align: right;\n",
       "    }\n",
       "</style>\n",
       "<table border=\"1\" class=\"dataframe\">\n",
       "  <thead>\n",
       "    <tr style=\"text-align: right;\">\n",
       "      <th></th>\n",
       "      <th>artist</th>\n",
       "      <th>title</th>\n",
       "      <th>lyrics sentiment</th>\n",
       "      <th>mood</th>\n",
       "      <th>lyrics</th>\n",
       "      <th>spotify_id</th>\n",
       "      <th>danceability</th>\n",
       "      <th>energy</th>\n",
       "      <th>key</th>\n",
       "      <th>loudness</th>\n",
       "      <th>mode</th>\n",
       "      <th>speechiness</th>\n",
       "      <th>acousticness</th>\n",
       "      <th>instrumentalness</th>\n",
       "      <th>liveness</th>\n",
       "      <th>valence</th>\n",
       "      <th>tempo</th>\n",
       "    </tr>\n",
       "    <tr>\n",
       "      <th>index</th>\n",
       "      <th></th>\n",
       "      <th></th>\n",
       "      <th></th>\n",
       "      <th></th>\n",
       "      <th></th>\n",
       "      <th></th>\n",
       "      <th></th>\n",
       "      <th></th>\n",
       "      <th></th>\n",
       "      <th></th>\n",
       "      <th></th>\n",
       "      <th></th>\n",
       "      <th></th>\n",
       "      <th></th>\n",
       "      <th></th>\n",
       "      <th></th>\n",
       "      <th></th>\n",
       "    </tr>\n",
       "  </thead>\n",
       "  <tbody>\n",
       "    <tr>\n",
       "      <th>ML1</th>\n",
       "      <td>George Michael</td>\n",
       "      <td>I Want Your Sex</td>\n",
       "      <td>pos</td>\n",
       "      <td>happy</td>\n",
       "      <td>In the past there were arguments for and again...</td>\n",
       "      <td>6QnFHieoch6U9J8zfv6hml</td>\n",
       "      <td>0.812</td>\n",
       "      <td>0.600</td>\n",
       "      <td>10</td>\n",
       "      <td>-13.418</td>\n",
       "      <td>0</td>\n",
       "      <td>0.0538</td>\n",
       "      <td>0.005090</td>\n",
       "      <td>0.02480</td>\n",
       "      <td>0.0465</td>\n",
       "      <td>0.800</td>\n",
       "      <td>99.189</td>\n",
       "    </tr>\n",
       "    <tr>\n",
       "      <th>ML2</th>\n",
       "      <td>Rob Zombie</td>\n",
       "      <td>Pussy Liquor</td>\n",
       "      <td>neg</td>\n",
       "      <td>angry</td>\n",
       "      <td>Baby :\\nGimme a B\\nGimme a A\\nGimme a B\\nGimme...</td>\n",
       "      <td>03VzAAMs5PrLM42XR7ijuc</td>\n",
       "      <td>0.540</td>\n",
       "      <td>0.923</td>\n",
       "      <td>10</td>\n",
       "      <td>-3.965</td>\n",
       "      <td>1</td>\n",
       "      <td>0.0324</td>\n",
       "      <td>0.000347</td>\n",
       "      <td>0.00614</td>\n",
       "      <td>0.4840</td>\n",
       "      <td>0.531</td>\n",
       "      <td>112.936</td>\n",
       "    </tr>\n",
       "    <tr>\n",
       "      <th>ML3</th>\n",
       "      <td>Katatonia</td>\n",
       "      <td>12</td>\n",
       "      <td>neg</td>\n",
       "      <td>sad</td>\n",
       "      <td>Black theatre of love\\nViolet dancers cast the...</td>\n",
       "      <td>4GCOPgFknQSHVXuAAdQYjk</td>\n",
       "      <td>0.134</td>\n",
       "      <td>0.674</td>\n",
       "      <td>6</td>\n",
       "      <td>-8.428</td>\n",
       "      <td>1</td>\n",
       "      <td>0.0478</td>\n",
       "      <td>0.000460</td>\n",
       "      <td>0.70300</td>\n",
       "      <td>0.2040</td>\n",
       "      <td>0.162</td>\n",
       "      <td>69.289</td>\n",
       "    </tr>\n",
       "    <tr>\n",
       "      <th>ML4</th>\n",
       "      <td>Bing Crosby</td>\n",
       "      <td>Swinging On A Star</td>\n",
       "      <td>pos</td>\n",
       "      <td>happy</td>\n",
       "      <td>Would you like to swing on a star\\nCarry moonb...</td>\n",
       "      <td>7xy0PAZxzGDOcYzyptvprd</td>\n",
       "      <td>0.706</td>\n",
       "      <td>0.167</td>\n",
       "      <td>0</td>\n",
       "      <td>-13.137</td>\n",
       "      <td>1</td>\n",
       "      <td>0.0602</td>\n",
       "      <td>0.896000</td>\n",
       "      <td>0.00000</td>\n",
       "      <td>0.1010</td>\n",
       "      <td>0.724</td>\n",
       "      <td>139.763</td>\n",
       "    </tr>\n",
       "    <tr>\n",
       "      <th>ML5</th>\n",
       "      <td>Ludacris</td>\n",
       "      <td>Get Back</td>\n",
       "      <td>neg</td>\n",
       "      <td>angry</td>\n",
       "      <td>Heads up! (woop, woop) Heads up! (woop, woop)\\...</td>\n",
       "      <td>6o3MvjWfF0jczTzPRcfZsK</td>\n",
       "      <td>0.562</td>\n",
       "      <td>0.638</td>\n",
       "      <td>1</td>\n",
       "      <td>-5.141</td>\n",
       "      <td>1</td>\n",
       "      <td>0.2750</td>\n",
       "      <td>0.055900</td>\n",
       "      <td>0.00000</td>\n",
       "      <td>0.1270</td>\n",
       "      <td>0.165</td>\n",
       "      <td>171.758</td>\n",
       "    </tr>\n",
       "  </tbody>\n",
       "</table>\n",
       "</div>"
      ],
      "text/plain": [
       "               artist               title lyrics sentiment   mood  \\\n",
       "index                                                               \n",
       "ML1    George Michael     I Want Your Sex              pos  happy   \n",
       "ML2        Rob Zombie        Pussy Liquor              neg  angry   \n",
       "ML3         Katatonia                  12              neg    sad   \n",
       "ML4       Bing Crosby  Swinging On A Star              pos  happy   \n",
       "ML5          Ludacris            Get Back              neg  angry   \n",
       "\n",
       "                                                  lyrics  \\\n",
       "index                                                      \n",
       "ML1    In the past there were arguments for and again...   \n",
       "ML2    Baby :\\nGimme a B\\nGimme a A\\nGimme a B\\nGimme...   \n",
       "ML3    Black theatre of love\\nViolet dancers cast the...   \n",
       "ML4    Would you like to swing on a star\\nCarry moonb...   \n",
       "ML5    Heads up! (woop, woop) Heads up! (woop, woop)\\...   \n",
       "\n",
       "                   spotify_id  danceability  energy  key  loudness  mode  \\\n",
       "index                                                                      \n",
       "ML1    6QnFHieoch6U9J8zfv6hml         0.812   0.600   10   -13.418     0   \n",
       "ML2    03VzAAMs5PrLM42XR7ijuc         0.540   0.923   10    -3.965     1   \n",
       "ML3    4GCOPgFknQSHVXuAAdQYjk         0.134   0.674    6    -8.428     1   \n",
       "ML4    7xy0PAZxzGDOcYzyptvprd         0.706   0.167    0   -13.137     1   \n",
       "ML5    6o3MvjWfF0jczTzPRcfZsK         0.562   0.638    1    -5.141     1   \n",
       "\n",
       "       speechiness  acousticness  instrumentalness  liveness  valence    tempo  \n",
       "index                                                                           \n",
       "ML1         0.0538      0.005090           0.02480    0.0465    0.800   99.189  \n",
       "ML2         0.0324      0.000347           0.00614    0.4840    0.531  112.936  \n",
       "ML3         0.0478      0.000460           0.70300    0.2040    0.162   69.289  \n",
       "ML4         0.0602      0.896000           0.00000    0.1010    0.724  139.763  \n",
       "ML5         0.2750      0.055900           0.00000    0.1270    0.165  171.758  "
      ]
     },
     "execution_count": 90,
     "metadata": {},
     "output_type": "execute_result"
    }
   ],
   "source": [
    "df = pd.read_csv('MoodyLyrics-1865-Sentiment-Audio.csv', index_col=0, encoding=\"utf-8\")\n",
    "df.head(5)"
   ]
  },
  {
   "cell_type": "code",
   "execution_count": 5,
   "metadata": {},
   "outputs": [
    {
     "data": {
      "text/plain": [
       "index\n",
       "ML1    in the past there were arguments for and again...\n",
       "ML2    baby give me a give me a a give me a give me a...\n",
       "ML3    black theatre of love violet dancers cast thei...\n",
       "ML4    would you like to swing on a star carry moonbe...\n",
       "ML5    heads up! heads up! here is another one! and a...\n",
       "Name: lyrics, dtype: object"
      ]
     },
     "execution_count": 5,
     "metadata": {},
     "output_type": "execute_result"
    }
   ],
   "source": [
    "def clean_lyrics(lyrics):\n",
    "    # Replace next line characters with spaces\n",
    "    lyrics = lyrics.replace(\"\\\\n\", \" \")\n",
    "    lyrics = lyrics.replace(\"’\", \"'\")\n",
    "    #print(\"Changed next line to space:\\n\",lyrics, \"\\n\")\n",
    "    # Remove section headers in brackets - will include adlibs and background vocals\n",
    "    lyrics = re.sub(\"[\\(\\[].*?[\\)\\]]\", \"\", lyrics)\n",
    "    #print(\"Removed section headers in brackets:\\n\", lyrics, \"\\n\")\n",
    "    # Remove section headers and terms not in brackets - repeat x2 or repeat 2x or repeat 2\n",
    "    headers = [\"Verse\", \"Chorus\", \"Repeat\", \"Solo\", \"Bridge\", \"Interlude\", \"Instrumental\"]\n",
    "    for header in headers:\n",
    "        lyrics = re.sub(r'(?:\\b'+header+r'\\b\\s\\dx|\\b'+header+r'\\b\\sx\\d|\\b'+header+r'\\b\\s\\d|\\b'+header+r'\\b\\s\\d\\:)', \"\", lyrics, flags=re.IGNORECASE)\n",
    "        lyrics = re.sub(r'\\s+?(?:\\b'+header+r'\\b)\\s*?', \"\", lyrics)\n",
    "    \n",
    "    # Expand contractions\n",
    "    word_list = lyrics.split()\n",
    "    for i in range(0, len(word_list)):\n",
    "        word = word_list[i].lower()\n",
    "        if word in contractions.keys():\n",
    "            word_list[i] = contractions[word]\n",
    "            \n",
    "    lyrics = ' '.join(word_list)\n",
    "    \n",
    "    # Remove remaining numbers\n",
    "    lyrics = re.sub(r'\\d+', \" \", lyrics)\n",
    "    \n",
    "    # Remove punctuations\n",
    "    punctuations = '''-;:'?\"\\,<>.../@#$%^&*_~'''\n",
    "    \n",
    "    for punc in punctuations:\n",
    "        lyrics = lyrics.replace(punc, \" \")\n",
    "    \n",
    "    lem_lyrics = []\n",
    "    list_lyrics = lyrics.split()\n",
    "    for i in range(len(list_lyrics)):\n",
    "        word = list_lyrics[i].lower()\n",
    "        if not (len(word) == 1 and word not in ['i', 'a']):\n",
    "            #word = lemmatizer.lemmatize(word)\n",
    "            lem_lyrics.append(word)\n",
    "            \n",
    "    # Remove any double spaces\n",
    "    lyrics = ' '.join(lem_lyrics)\n",
    "    \n",
    "    return lyrics.lower()\n",
    "\n",
    "df['lyrics'] = df['lyrics'].apply(clean_lyrics)\n",
    "\n",
    "df['lyrics'].head(5)"
   ]
  },
  {
   "cell_type": "code",
   "execution_count": 91,
   "metadata": {},
   "outputs": [
    {
     "data": {
      "text/plain": [
       "index\n",
       "ML1    in the past there were arguments for and again...\n",
       "ML2    baby give me a give me a a give me a give me a...\n",
       "ML3    black theatre of love violet dancers cast thei...\n",
       "Name: lyrics, dtype: object"
      ]
     },
     "execution_count": 91,
     "metadata": {},
     "output_type": "execute_result"
    }
   ],
   "source": [
    "def clean_lyrics(lyrics):\n",
    "    # Replace next line characters with spaces\n",
    "    lyrics = lyrics.replace(\"\\\\n\", \" \")\n",
    "    lyrics = lyrics.replace(\"’\", \"'\")\n",
    "    #print(\"Changed next line to space:\\n\",lyrics, \"\\n\")\n",
    "    # Remove section headers in brackets - will include adlibs and background vocals\n",
    "    lyrics = re.sub(\"[\\(\\[].*?[\\)\\]]\", \"\", lyrics)\n",
    "    #print(\"Removed section headers in brackets:\\n\", lyrics, \"\\n\")\n",
    "    # Remove section headers and terms not in brackets - repeat x2 or repeat 2x or repeat 2\n",
    "    headers = [\"Verse\", \"Chorus\", \"Repeat\", \"Solo\", \"Bridge\", \"Interlude\", \"Instrumental\"]\n",
    "    for header in headers:\n",
    "        lyrics = re.sub(r'(?:\\b'+header+r'\\b\\s\\dx|\\b'+header+r'\\b\\sx\\d|\\b'+header+r'\\b\\s\\d|\\b'+header+r'\\b\\s\\d\\:)', \"\", lyrics, flags=re.IGNORECASE)\n",
    "        lyrics = re.sub(r'\\s+?(?:\\b'+header+r'\\b)\\s*?', \"\", lyrics)\n",
    "    \n",
    "    # Expand contractions\n",
    "    word_list = lyrics.split()\n",
    "    for i in range(0, len(word_list)):\n",
    "        word = word_list[i].lower()\n",
    "        if word in contractions.keys():\n",
    "            word_list[i] = contractions[word]\n",
    "            \n",
    "    lyrics = ' '.join(word_list)\n",
    "    \n",
    "    # Remove remaining numbers\n",
    "    lyrics = re.sub(r'\\d+', \" \", lyrics)\n",
    "    \n",
    "    # Remove punctuations\n",
    "    punctuations = '''-;:?'\"\\,<>./@#$%^&*_~'''\n",
    "    \n",
    "    for punc in punctuations:\n",
    "        lyrics = lyrics.replace(punc, \" \")\n",
    "        \n",
    "    lem_lyrics = []\n",
    "    list_lyrics = lyrics.split()\n",
    "    for i in range(len(list_lyrics)):\n",
    "        word = list_lyrics[i].lower()\n",
    "        if not (len(word) == 1 and word not in ['i', 'a']):\n",
    "            #word = lemmatizer.lemmatize(word)\n",
    "            lem_lyrics.append(word)\n",
    "    \n",
    "    # Remove any double spaces\n",
    "    lyrics = ' '.join(lem_lyrics)\n",
    "    \n",
    "    return lyrics\n",
    "\n",
    "df['lyrics'] = df['lyrics'].apply(clean_lyrics)\n",
    "\n",
    "df['lyrics'].head(3)\n"
   ]
  },
  {
   "cell_type": "code",
   "execution_count": 92,
   "metadata": {},
   "outputs": [],
   "source": [
    "lyrics = np.asarray(df['lyrics'], dtype=\"str\")"
   ]
  },
  {
   "cell_type": "code",
   "execution_count": 37,
   "metadata": {},
   "outputs": [
    {
     "data": {
      "text/plain": [
       "array(['pos', 'neg', 'neg', 'pos'], dtype='<U3')"
      ]
     },
     "execution_count": 37,
     "metadata": {},
     "output_type": "execute_result"
    }
   ],
   "source": [
    "targetLabels = np.asarray(df['lyrics sentiment'], dtype=\"str\")\n",
    "targetLabels[:4]"
   ]
  },
  {
   "cell_type": "code",
   "execution_count": 45,
   "metadata": {},
   "outputs": [],
   "source": [
    "X_train, X_test, Y_train, Y_test = train_test_split(lyrics, targetLabels, test_size=0.2, random_state=0)"
   ]
  },
  {
   "cell_type": "code",
   "execution_count": 65,
   "metadata": {},
   "outputs": [
    {
     "data": {
      "text/plain": [
       "Pipeline(steps=[('vectorizer', TfidfVectorizer()), ('model', ComplementNB())])"
      ]
     },
     "execution_count": 65,
     "metadata": {},
     "output_type": "execute_result"
    }
   ],
   "source": [
    "senti_clf = Pipeline([\n",
    "    ('vectorizer', TfidfVectorizer()),\n",
    "    ('model', ComplementNB()),\n",
    "])\n",
    "\n",
    "senti_clf.fit(X_train, Y_train)"
   ]
  },
  {
   "cell_type": "code",
   "execution_count": 66,
   "metadata": {},
   "outputs": [
    {
     "name": "stdout",
     "output_type": "stream",
     "text": [
      "Score by fold: [0.68       0.66       0.66442953 0.65771812 0.66442953 0.67785235\n",
      " 0.67785235 0.6442953  0.6442953  0.67114094]\n",
      "Accuracy: 0.6642 (+/- 0.02)\n"
     ]
    }
   ],
   "source": [
    "scores = cross_val_score(senti_clf, X_train, Y_train, cv=10)\n",
    "print(\"Score by fold: \" + str(scores))\n",
    "print(\"Accuracy: %0.4f (+/- %0.2f)\" % (scores.mean(), scores.std() * 2))"
   ]
  },
  {
   "cell_type": "code",
   "execution_count": 67,
   "metadata": {},
   "outputs": [
    {
     "name": "stdout",
     "output_type": "stream",
     "text": [
      "Accuracy = 0.6836461126005362\n",
      "Confusion Matrix:\n"
     ]
    },
    {
     "data": {
      "image/png": "[encoded data removed]",
      "text/plain": [
       "<Figure size 432x288 with 2 Axes>"
      ]
     },
     "metadata": {
      "needs_background": "light"
     },
     "output_type": "display_data"
    },
    {
     "name": "stdout",
     "output_type": "stream",
     "text": [
      "ROC Curve:\n"
     ]
    },
    {
     "data": {
      "image/png": "[encoded data removed]",
      "text/plain": [
       "<Figure size 432x288 with 1 Axes>"
      ]
     },
     "metadata": {
      "needs_background": "light"
     },
     "output_type": "display_data"
    },
    {
     "name": "stdout",
     "output_type": "stream",
     "text": [
      "PR Curve:\n"
     ]
    },
    {
     "data": {
      "image/png": "[encoded data removed]",
      "text/plain": [
       "<Figure size 432x288 with 1 Axes>"
      ]
     },
     "metadata": {
      "needs_background": "light"
     },
     "output_type": "display_data"
    },
    {
     "name": "stdout",
     "output_type": "stream",
     "text": [
      "              precision    recall  f1-score   support\n",
      "\n",
      "         neg       0.66      0.95      0.78       219\n",
      "         pos       0.82      0.30      0.44       154\n",
      "\n",
      "    accuracy                           0.68       373\n",
      "   macro avg       0.74      0.63      0.61       373\n",
      "weighted avg       0.73      0.68      0.64       373\n",
      "\n"
     ]
    }
   ],
   "source": [
    "predictions = senti_clf.predict(X_test)\n",
    "print(\"Accuracy = \" + str(accuracy_score(Y_test, predictions, normalize=True)))\n",
    "print(\"Confusion Matrix:\")\n",
    "plot_confusion_matrix(senti_clf, X_test, Y_test) \n",
    "plt.show()\n",
    "print(\"ROC Curve:\")\n",
    "plot_roc_curve(senti_clf, X_test, Y_test)\n",
    "plt.show()\n",
    "print(\"PR Curve:\")\n",
    "plot_precision_recall_curve(senti_clf, X_test, Y_test)\n",
    "plt.show()\n",
    "print(classification_report(Y_test, predictions))"
   ]
  },
  {
   "cell_type": "code",
   "execution_count": 68,
   "metadata": {},
   "outputs": [
    {
     "data": {
      "text/plain": [
       "0.4549929010884997"
      ]
     },
     "execution_count": 68,
     "metadata": {},
     "output_type": "execute_result"
    }
   ],
   "source": [
    "report = classification_report(Y_test, predictions, output_dict=True)\n",
    "\n",
    "harmonic_mean_acc = 1/((1/2)*((1/report['neg']['recall']) + (1/report['pos']['recall'])))\n",
    "\n",
    "harmonic_mean_acc"
   ]
  },
  {
   "cell_type": "code",
   "execution_count": 69,
   "metadata": {},
   "outputs": [
    {
     "data": {
      "text/plain": [
       "Pipeline(steps=[('vectorizer', TfidfVectorizer()),\n",
       "                ('model', RandomForestClassifier())])"
      ]
     },
     "execution_count": 69,
     "metadata": {},
     "output_type": "execute_result"
    }
   ],
   "source": [
    "senti_clf = Pipeline([\n",
    "    ('vectorizer', TfidfVectorizer()),\n",
    "    ('model', RandomForestClassifier()),\n",
    "])\n",
    "\n",
    "senti_clf.fit(X_train, Y_train)"
   ]
  },
  {
   "cell_type": "code",
   "execution_count": 70,
   "metadata": {},
   "outputs": [
    {
     "name": "stdout",
     "output_type": "stream",
     "text": [
      "Score by fold: [0.66666667 0.69333333 0.69127517 0.65771812 0.68456376 0.68456376\n",
      " 0.67114094 0.77852349 0.65100671 0.69798658]\n",
      "Accuracy: 0.6877 (+/- 0.07)\n"
     ]
    }
   ],
   "source": [
    "scores = cross_val_score(senti_clf, X_train, Y_train, cv=10)\n",
    "print(\"Score by fold: \" + str(scores))\n",
    "print(\"Accuracy: %0.4f (+/- %0.2f)\" % (scores.mean(), scores.std() * 2))"
   ]
  },
  {
   "cell_type": "code",
   "execution_count": 73,
   "metadata": {},
   "outputs": [
    {
     "name": "stdout",
     "output_type": "stream",
     "text": [
      "Accuracy = 0.6863270777479893\n",
      "Confusion Matrix:\n"
     ]
    },
    {
     "data": {
      "image/png": "[encoded data removed]",
      "text/plain": [
       "<Figure size 432x288 with 2 Axes>"
      ]
     },
     "metadata": {
      "needs_background": "light"
     },
     "output_type": "display_data"
    },
    {
     "name": "stdout",
     "output_type": "stream",
     "text": [
      "ROC Curve:\n"
     ]
    },
    {
     "data": {
      "image/png": "[encoded data removed]",
      "text/plain": [
       "<Figure size 432x288 with 1 Axes>"
      ]
     },
     "metadata": {
      "needs_background": "light"
     },
     "output_type": "display_data"
    },
    {
     "name": "stdout",
     "output_type": "stream",
     "text": [
      "PR Curve:\n"
     ]
    },
    {
     "data": {
      "image/png": "[encoded data removed]",
      "text/plain": [
       "<Figure size 432x288 with 1 Axes>"
      ]
     },
     "metadata": {
      "needs_background": "light"
     },
     "output_type": "display_data"
    },
    {
     "name": "stdout",
     "output_type": "stream",
     "text": [
      "              precision    recall  f1-score   support\n",
      "\n",
      "         neg       0.69      0.84      0.76       219\n",
      "         pos       0.68      0.46      0.55       154\n",
      "\n",
      "    accuracy                           0.69       373\n",
      "   macro avg       0.68      0.65      0.65       373\n",
      "weighted avg       0.68      0.69      0.67       373\n",
      "\n"
     ]
    }
   ],
   "source": [
    "predictions = senti_clf.predict(X_test)\n",
    "print(\"Accuracy = \" + str(accuracy_score(Y_test, predictions, normalize=True)))\n",
    "print(\"Confusion Matrix:\")\n",
    "plot_confusion_matrix(senti_clf, X_test, Y_test) \n",
    "plt.show()\n",
    "print(\"ROC Curve:\")\n",
    "plot_roc_curve(senti_clf, X_test, Y_test)\n",
    "plt.show()\n",
    "print(\"PR Curve:\")\n",
    "plot_precision_recall_curve(senti_clf, X_test, Y_test)\n",
    "plt.show()\n",
    "print(classification_report(Y_test, predictions))"
   ]
  },
  {
   "cell_type": "code",
   "execution_count": 74,
   "metadata": {},
   "outputs": [
    {
     "data": {
      "text/plain": [
       "0.5965167238129839"
      ]
     },
     "execution_count": 74,
     "metadata": {},
     "output_type": "execute_result"
    }
   ],
   "source": [
    "report = classification_report(Y_test, predictions, output_dict=True)\n",
    "\n",
    "harmonic_mean_acc = 1/((1/2)*((1/report['neg']['recall']) + (1/report['pos']['recall'])))\n",
    "\n",
    "harmonic_mean_acc"
   ]
  },
  {
   "cell_type": "markdown",
   "metadata": {},
   "source": [
    "### NLTK"
   ]
  },
  {
   "cell_type": "code",
   "execution_count": 14,
   "metadata": {},
   "outputs": [],
   "source": [
    "from nltk.classify import NaiveBayesClassifier\n",
    "from nltk.sentiment import SentimentAnalyzer\n",
    "from nltk.tokenize import sent_tokenize, word_tokenize\n",
    "from nltk.sentiment.util import *"
   ]
  },
  {
   "cell_type": "code",
   "execution_count": 15,
   "metadata": {},
   "outputs": [],
   "source": [
    "stopwords = []\n",
    "for word in text.ENGLISH_STOP_WORDS:\n",
    "    stopwords.append(word)"
   ]
  },
  {
   "cell_type": "code",
   "execution_count": 16,
   "metadata": {},
   "outputs": [],
   "source": [
    "from nltk.sentiment.vader import SentimentIntensityAnalyzer"
   ]
  },
  {
   "cell_type": "code",
   "execution_count": 35,
   "metadata": {},
   "outputs": [],
   "source": [
    "test = lyrics[0:3]"
   ]
  },
  {
   "cell_type": "code",
   "execution_count": 30,
   "metadata": {},
   "outputs": [],
   "source": [
    "lemmatizer = WordNetLemmatizer()"
   ]
  },
  {
   "cell_type": "code",
   "execution_count": 85,
   "metadata": {},
   "outputs": [
    {
     "data": {
      "text/plain": [
       "index\n",
       "ML1    In the past there were argument for and agains...\n",
       "ML2    Baby :\\nGimme a B\\nGimme a A\\nGimme a B\\nGimme...\n",
       "ML3    Black theatre of love\\nViolet dancer cast thei...\n",
       "ML4    Would you like to swing on a star\\nCarry moonb...\n",
       "ML5    Heads up! (woop, woop) Heads up! (woop, woop)\\...\n",
       "Name: lyrics, dtype: object"
      ]
     },
     "execution_count": 85,
     "metadata": {},
     "output_type": "execute_result"
    }
   ],
   "source": [
    "def alt_clean_lyrics(lyrics):\n",
    "    # Replace next line characters with spaces\n",
    "    #lyrics = lyrics.replace(\"\\\\n\", \" \")\n",
    "    lyrics = lyrics.replace(\"’\", \"'\")\n",
    "    #print(\"Changed next line to space:\\n\",lyrics, \"\\n\")\n",
    "    # Remove section headers in brackets - will include adlibs and background vocals\n",
    "    #lyrics = re.sub(\"[\\(\\[].*?[\\)\\]]\", \"\", lyrics)\n",
    "    #print(\"Removed section headers in brackets:\\n\", lyrics, \"\\n\")\n",
    "    # Remove section headers and terms not in brackets - repeat x2 or repeat 2x or repeat 2\n",
    "    headers = [\"Verse\", \"Chorus\", \"Repeat\", \"Solo\", \"Bridge\", \"Interlude\", \"Instrumental\"]\n",
    "    for header in headers:\n",
    "        lyrics = re.sub(r'(?:\\b'+header+r'\\b\\s\\dx|\\b'+header+r'\\b\\sx\\d|\\b'\n",
    "                        +header+r'\\b\\s\\d|\\b'+header+r'\\b\\s\\d\\:)', \"\", lyrics, flags=re.IGNORECASE)\n",
    "        lyrics = re.sub(r'\\s+?(?:\\b'+header+r'\\b)\\s*?', \"\", lyrics)\n",
    "    \n",
    "    lem_lyrics = []\n",
    "    list_lyrics = lyrics.split()\n",
    "    for i in range(len(list_lyrics)):\n",
    "        word = list_lyrics[i].lower()\n",
    "        if not (len(word) == 1 and word not in ['i', 'a']):\n",
    "            word = lemmatizer.lemmatize(list_lyrics[i])\n",
    "            lem_lyrics.append(word)\n",
    "            \n",
    "    # Remove any double spaces\n",
    "    lyrics = ' '.join(lem_lyrics)\n",
    "    \n",
    "    return lyrics\n",
    "\n",
    "df['lyrics'] = df['lyrics'].apply(alt_clean_lyrics)\n",
    "\n",
    "df['lyrics'].head(5)"
   ]
  },
  {
   "cell_type": "code",
   "execution_count": 86,
   "metadata": {},
   "outputs": [],
   "source": [
    "lyrics = np.asarray(df['lyrics'], dtype=\"str\")"
   ]
  },
  {
   "cell_type": "code",
   "execution_count": 87,
   "metadata": {},
   "outputs": [
    {
     "data": {
      "text/plain": [
       "\"In the past there were argument for and against casual sex. Then it became a question of morality. These day it can be a question of life or death. It's a simple a that. And this song is not about casual sex\\\\n\\\\nThere's thing that you guess\\\\nAnd a'things a'that you know\\\\nThere's boy you can trust\\\\nAnd a'girls that you don't\\\\nThere's little thing you hide\\\\nAnd little thing that you show\\\\nSometimes you think you're gonna get it\\\\nBut you don't and that's just the way it goes\\\\n\\\\nI swear I won't tease you\\\\nWon't tell you no lies\\\\nDon't need no Bible\\\\nJust look in my eyes\\\\nI've a'waited so long baby\\\\nNow that we're friends\\\\nEvery man's got his patience\\\\nAnd here's where mine ends\\\\n\\\\nI want your sex\\\\nI want your love\\\\nI want your sex\\\\nI want your...sex\\\\nIt's playin' on my mind\\\\nIt's dancin' on my soul\\\\nIt's taken so much time\\\\nSo why don't you just let me go\\\\nI'd really like to try\\\\nOh, I'd really love to know\\\\nWhen you tell me you're gonna regret it\\\\nThen I tell you that I love you but you still say no\\\\n\\\\nI swear I won't tease you\\\\nWon't tell you no lies\\\\nDon't need no Bible\\\\nJust look in my eyes\\\\nI've waited so long baby\\\\nOut in the cold\\\\nI can't take much more girl\\\\nI'm losing control\\\\n\\\\nI want your sex\\\\nI want your love\\\\nI want your sex\\\\nI want your…sex (sex! ow!)\\\\nIt's natural, it's chemical (let's do it)\\\\nIt's logical habitual (can we do it?)\\\\nIt's sensual but most of all\\\\nSex is something that we should do\\\\nSex is something for me and you\\\\nSex is natural, sex is good\\\\nNot everybody doe it\\\\nBut everybody should\\\\nSex is natural, sex is fun\\\\nSex is best when it's one on one\\\\nOne on one\\\\nHoo ah (sex) I'm not your father\\\\nHoo ah (sex) I'm not your brother\\\\nHoo ah (sex) talk to your sister\\\\nHoo ah (sex) I am a lover\\\\nHoo ah (sex)\\\\nHoo ah (sex)\\\\nHoo ah (sex)\\\\nC-c-c-c-c-c-come on\\\\nWhat's your definition of dirty baby?\\\\nWhat do you consider pornography?\\\\nDon't you know I love it till it hurt me baby?\\\\nDon't you think it's time you had sex with me?\\\\nWhat's your definition of dirty baby?\\\\nWhat do you call pornography?\\\\nDon't you know I love it till it hurt me baby?\\\\nDon't you think it's time you had sex with me?\\\\nOw! Sex with me\\\\nOw! Sex with me\\\\nMmmm have sex with me\\\\nC-c-c-c-c-c-come on\\\\n*************************\\\\nOh so much love, that you've never seen\\\\nLet's make love, put your trust in me (hmm)\\\\nDon't you listen to what they told you\\\\nBecause I love you, let me hold you\\\\nOh, I'm not your brother\\\\nI'm not your father\\\\nOh will you ever change your mind?\\\\nI'm a gentle lover with a heart of gold\\\\nBut baby you've been so unkind...oh\\\\nCome on\\\\nI want your sex\\\\nCome on, I want your sex\\\\nThat's right, all night\\\\nOh, I want your sex\\\\nI want your…sex\\\\nSexy baby's (Sexy baby's)\\\\nSexy body (Sexy body)\\\\nKeeps me guessing (Keeps me guessing)\\\\nWith a promise (Oh)\\\\nI know we can come together\\\\nBut the question is Will we ever ever?\\\\nSexy baby's (Sexy baby's)\\\\nSexy body (Sexy body)\\\\nKeeps me guessing (Keeps me guessing)\\\\nWith a promise (Oh)\\\\nI know we can come together\\\\nBut the question is Will we ever ever?\\\\nOhhh together\\\\nYou and me\\\\nI want your love\""
      ]
     },
     "execution_count": 87,
     "metadata": {},
     "output_type": "execute_result"
    }
   ],
   "source": [
    "lyrics[0]"
   ]
  },
  {
   "cell_type": "code",
   "execution_count": 71,
   "metadata": {},
   "outputs": [],
   "source": [
    "vader_test_list = lyrics.tolist()\n",
    "vader = SentimentIntensityAnalyzer()\n",
    "vader_results = []\n",
    "\n",
    "i = 0\n",
    "for ly in vader_test_list:\n",
    "    song_total = 0\n",
    "    ly = ly.replace(\"\\\\n\", \" \")\n",
    "    ly = ly.replace(\"’\", \"'\")\n",
    "    #for line in ly.split(\"\\\\n\"):\n",
    "    #    line = line.replace(\"’\", \"'\")\n",
    "    #    scores = vader.polarity_scores(line)\n",
    "    #    song_total += scores['compound']\n",
    "    #song_polarity = song_total / len(ly.split(\"\\\\n\"))\n",
    "    song_polarity = vader.polarity_scores(ly)\n",
    "    if song_polarity['compound'] >= 0:\n",
    "        vader_results.append(\"pos\")\n",
    "    else:\n",
    "        vader_results.append(\"neg\")"
   ]
  },
  {
   "cell_type": "code",
   "execution_count": 72,
   "metadata": {},
   "outputs": [
    {
     "name": "stdout",
     "output_type": "stream",
     "text": [
      "Accuracy: 0.6680965147453083%\n",
      "Error: 0.3319034852546917%\n"
     ]
    }
   ],
   "source": [
    "match = 0\n",
    "error = 0\n",
    "\n",
    "for i in range(len(targetLabels)):\n",
    "    if targetLabels[i] == vader_results[i]:\n",
    "        match += 1\n",
    "    else:\n",
    "        error += 1\n",
    "accuracy = match / len(targetLabels)\n",
    "error = error / len(targetLabels)\n",
    "\n",
    "print(\"Accuracy: {}%\".format(accuracy))\n",
    "print(\"Error: {}%\".format(error))"
   ]
  },
  {
   "cell_type": "markdown",
   "metadata": {},
   "source": [
    "### TextBlob"
   ]
  },
  {
   "cell_type": "code",
   "execution_count": 7,
   "metadata": {},
   "outputs": [],
   "source": [
    "from textblob import TextBlob"
   ]
  },
  {
   "cell_type": "code",
   "execution_count": 93,
   "metadata": {},
   "outputs": [],
   "source": [
    "textblob_test_list = lyrics.tolist()\n",
    "textblob_results = []\n",
    "\n",
    "for ly in textblob_test_list:\n",
    "    song_total = 0\n",
    "    for line in ly.split(\"\\\\n\"):\n",
    "        line = line.replace(\"’\", \"'\")\n",
    "        tb_line = TextBlob(line)\n",
    "        score = tb_line.sentiment.polarity\n",
    "        song_total += score\n",
    "    song_polarity = song_total / len(ly.split(\"\\\\n\"))\n",
    "    #ly = ly.replace(\"\\\\n\", \" \")\n",
    "    #ly = ly.replace(\"’\", \"'\")\n",
    "    #tb_ly = TextBlob(ly)\n",
    "    #song_polarity = tb_ly.sentiment.polarity\n",
    "    if song_polarity >= 0:\n",
    "        textblob_results.append(\"pos\")\n",
    "    else:\n",
    "        textblob_results.append(\"neg\")"
   ]
  },
  {
   "cell_type": "code",
   "execution_count": 94,
   "metadata": {},
   "outputs": [
    {
     "name": "stdout",
     "output_type": "stream",
     "text": [
      "Accuracy: 0.5989276139410188%\n",
      "Error: 0.4010723860589812%\n"
     ]
    }
   ],
   "source": [
    "match = 0\n",
    "error = 0\n",
    "\n",
    "for i in range(len(targetLabels)):\n",
    "    if targetLabels[i] == textblob_results[i]:\n",
    "        match += 1\n",
    "    else:\n",
    "        error += 1\n",
    "accuracy = match / len(targetLabels)\n",
    "error = error / len(targetLabels)\n",
    "\n",
    "print(\"Accuracy: {}%\".format(accuracy))\n",
    "print(\"Error: {}%\".format(error))"
   ]
  },
  {
   "cell_type": "code",
   "execution_count": 17,
   "metadata": {},
   "outputs": [],
   "source": [
    "kr_string = \"쉬운 일이 절대 아냐\\n네 앞에 서는 건\\n스릴러 한편이야\\n잘 나가다가도\\n뭔가 어긋나면\\n그대로 시작이야\\n싸늘해져 가는 네 눈빛\\n무거워지는 분위기\\n난 그 자리 가만히\\n앉은 채 숨을\\n고르고 있어\\n\\n서로를 향한\\n말투는 점점 더\\n날카로워져만 가\\n\\n그래 날 쏴\\nBang bang\\n너의 bullet bullet bullet\\n얼마든지 맞아줄게\\n원한 게 이거라면\\nJust shoot me\\nShoot me\\n나를 향해 쏴\\nBang bang\\n그게 편해 편해 편해\\n이젠 너무 익숙해\\n이걸로 풀린다면\\nJust shoot me\\nShoot me\\n\\n이걸 기대한 건 아냐\\n너와 원했던 건\\n로맨스 한편이야\\n하지만 현실은\\n툭하면 붉어져\\n한편의 드라마야\\n너의 대사 속 “이젠 끝이야”\\n진심이 아니길 빌어\\n그저 불안한 맘에\\n뱉은 거라고\\n믿고 싶어\\n\\n서로를 향한\\n말투는 점점 더\\n날카로워져만 가\\n그래 날 쏴\\nBang bang\\n너의 bullet bullet bullet\\n얼마든지 맞아줄게\\n원한 게 이거라면\\nJust shoot me\\nShoot me\\n\\n나를 향해 쏴\\nBang bang\\n그게 편해 편해 편해\\n이젠 너무 익숙해\\n이걸로 풀린다면\\nJust shoot me\\nShoot me\\n\\n(I’m okay)\\n(So if you wanna hurt me)\\n(Baby just hurt me)\\n(I’m okay)\\n(So if you wanna hurt me)\\n(Baby just hurt me)\\n가슴에 박히는 너의 한발 한발이\\n사실은 너무 아파\\nIt hurts so bad so bad\\n그래 날 쏴\\nBang bang\\n너의 bullet bullet bullet\\n얼마든지 맞아줄게\\n원한 게 이거라면\\nJust shoot me\\nShoot me\\n\\n나를 향해 쏴\\nBang bang\\n그게 편해 편해 편해\\n이젠 너무 익숙해\\n이걸로 풀린다면\\nJust shoot me\\nShoot me\"\n",
    "kr_rom_string = \"\\n\\nSaejang ane gatin chaero\\nNeomu orae heulleosseo\\nTalchulhagetdaneun maeumeun\\nJeonbu itgo marasseo\\n\\nJayuraneun yeolsoen\\nGalsurok meoreojigo\\nGeuryeowatdeon miraen\\nJeomjeom heuryeojyeoman ga\\n\\nIge jeonburago\\nMitgo sipjin anado\\nChang bakkui sesangeun\\nMeolge neukkyeojyeoseo\\n\\nLost in this paradise\\nYeongwon gatgetjiman\\nDa jinagal geoya\\nCause we were born to fly\\nNun gamgo geuryeobwa\\nJigeum yeogil tteona\\nKkumkkudeon eodinga\\nLost in this paradise\\n\\nLost in this paradise\\nLost in this paradise\\n\\nAmuri noryeok haebwado\\nJigeum urin yeogie\\nBeoseonaryeogo haebwado\\nGyeolgugeun jejarie\\n\\nJayuraneun yeolsoen\\nGalsurok meoreojigo\\nGeuryeowatdeon miraen\\nJeomjeom heuryeojyeoman ga\\n\\nIge jeonburago\\nMitgo sipjin anado\\nChang bakkui sesangeun\\nMeolge neukkyeojyeoseo\\n\\n\\nLost in this paradise\\nYeongwon gatgetjiman\\nDa jinagal geoya\\nCause we were born to fly\\nNun gamgo geuryeobwa\\nJigeum yeogil tteona\\nKkumkkudeon eodinga\\nLost in this paradise\\n\\nLost in this paradise\\nLost in this paradise\\n\\nYeogiseo nagado\\nApeul ttaen apado\\nHimdeul su isseodo\\nGeuraedo tteonallae\\nGeurae tteonalge\\n\\nYeogiseo nagado\\nApeul ttaen apado\\nHimdeul su isseodo\\nGeuraedo tteonallae\\nIje tteonalge\\n\\nLost in this paradise\\nYeongwon gatgetjiman\\nDa jinagal geoya\\nCause we were born to fly\\nNun gamgo geuryeobwa\\nJigeum yeogil tteona\\nKkumkkudeon eodinga\\nLost in this paradise\\n\\nLost in this paradise\\nLost in this paradise\\n\\n\\n\\n새장 안에 갇힌 채로\\n너무 오래 흘렀어\\n탈출하겠다는 마음은\\n전부 잊고 말았어\\n\\n자유라는 열쇤\\n갈수록 멀어지고\\n그려왔던 미랜\\n점점 흐려져만 가\\n\\n이게 전부라고\\n믿고 싶진 않아도\\n창 밖의 세상은\\n멀게 느껴져서\\n\\nLost in this paradise\\n영원 같겠지만\\n다 지나갈 거야\\nCause we were born to fly\\n눈 감고 그려봐\\n지금 여길 떠나\\n꿈꾸던 어딘가\\nLost in this paradise\\n\\nLost in this paradise\\nLost in this paradise\\n\\n아무리 노력 해봐도\\n지금 우린 여기에\\n벗어나려고 해봐도\\n결국은 제자리에\\n\\n자유라는 열쇤\\n갈수록 멀어지고\\n그려왔던 미랜\\n점점 흐려져만 가\\n\\n이게 전부라고\\n믿고 싶진 않아도\\n창 밖의 세상은\\n멀게 느껴져서\\n\\n\\nLost in this paradise\\n영원 같겠지만\\n다 지나갈 거야\\nCause we were born to fly\\n눈 감고 그려봐\\n지금 여길 떠나\\n꿈꾸던 어딘가\\nLost in this paradise\\n\\nLost in this paradise\\nLost in this paradise\\n\\n여기서 나가도\\n아플 땐 아파도\\n힘들 수 있어도\\n그래도 떠날래\\n그래 떠날게\\n\\n여기서 나가도\\n아플 땐 아파도\\n힘들 수 있어도\\n그래도 떠날래\\n이제 떠날게\\n\\nLost in this paradise\\n영원 같겠지만\\n다 지나갈 거야\\nCause we were born to fly\\n눈 감고 그려봐\\n지금 여길 떠나\\n꿈꾸던 어딘가\\nLost in this paradise\\n\\nLost in this paradise\\nLost in this paradise\"\n",
    "en_string = \"I saw someone who looks just like you\\nIn the back seat with her hand out the sunroof\\nI swear it was the dress that I gave you\\nAnd I wonder if your favorite color still blue?\\n\\nYou're full of love, and wild and free\\nChasin' every dream and possibility\\nYou're more than I could ever be-e-e-e\\n\\nI hope he treats you better than I ever could\\n'Cause you deserve the world times two\\nAnd our simple Sunday afternoons\\nI hopе he's home for you evеn though I had to lose you\\nFor you to find who fills your heart\\nEven if I'm not the one you choose\\n(Ohh, ohh, ohh\\nOhh, ohh, ohh\\nOhh, ohh, ohh\\nOhh, ohh, ohh-ohh)\\n\\nI thought I caught a glimpse of me and you\\nIn our kitchen where I cooked your favorite food\\nAnd if I'm being honest, I was a fool\\nSo say the word and I'll come runnin' back to you\\n\\nAnd you're full of love, and wild and free\\nChasin' every dream and possibility\\nYou're more than I could ever be-e-e-e\\n\\nI hope he treats you better than I ever could\\n'Cause you deserve the world times two\\nAnd our simple Sunday afternoons\\nI hope he's home for you even though I had to lose you\\nFor you to find who fills your heart\\nEven if I'm not the one you choose\\n\\nOhh, oh-oh-oh, ohh, oh-oh-oh\\nOhh, oh-oh-oh, ohh, mmm\\n\\nI hope he treats you better than I ever could\\n'Cause you deserve the world times two\\nAnd our simple Sunday afternoons\\nI hope he's home for you even though I had to lose you\\nFor you to find who fills your heart\\nEven if I'm not the one you choose\\n(Ohh, ohh, ohh)\\nAnd I hope he's home for you\\n(Ohh, ohh, ohh)\\nAnd our Sunday afternoons\"\n",
    "sp_en_string = \"Comin' over in my direction\\nSo thankful for that, it's such a blessin', yeah\\nTurn every situation into heaven, yeah\\nOh-oh, you are\\nMy sunrise on the darkest day\\nGot me feelin' some kind of way\\nMake me wanna savor every moment slowly, slowly\\nYou fit me tailor-made, love how you put it on\\nGot the only key, know how to turn it on\\nThe way you nibble on my ear, the only words I wanna hear\\nBaby, take it slow so we can last long\\n\\n¡Oh! Tú, tú eres el imán y yo soy el metal\\nMe voy acercando y voy armando el plan\\nSólo con pensarlo se acelera el pulso (Oh, yeah)\\nYa, ya me está gustando más de lo normal\\nTodos mis sentidos van pidiendo más\\nEsto hay que tomarlo sin ningún apuro\\n\\nDespacito\\nQuiero respirar tu cuello despacito\\nDeja que te diga cosas al oído\\nPara que te acuerdes si no estás conmigo\\nDespacito\\nQuiero desnudarte a besos despacito\\nFirmo en las paredes de tu laberinto\\nY hacer de tu cuerpo todo un manuscrito\\n(Sube, sube, sube\\nSube, sube)\\nQuiero ver bailar tu pelo, quiero ser tu ritmo (Woah, woah)\\nQue le enseñes a mi boca (Woah, woah)\\nTus lugares favoritos (Favorito, favorito, baby)\\nDéjame sobrepasar tus zonas de peligro (Woah, woah)\\nHasta provocar tus gritos (Woah, woah)\\nY que olvides tu apellido\\n\\nSi te pido un beso, ven, dámelo, yo sé que estás pensándolo\\nLlevo tiempo intentándolo, mami, esto es dando y dándolo\\nSabes que tu corazón conmigo te hace bom, bom\\nSabes que esa beba está buscando de mi bom, bom\\nVen, prueba de mi boca para ver cómo te sabe\\nQuiero, quiero, quiero ver cuánto amor a ti te cabe\\nYo no tengo prisa, yo me quiero dar el viaje\\nEmpecemos lento, después salvaje\\n\\nPasito a pasito, suave suavecito\\nNos vamos pegando, poquito a poquito\\nCuando tú me besas con esa destreza\\nVeo que eres malicia con delicadeza\\nPasito a pasito, suave suavecito\\nNos vamos pegando, poquito a poquito\\nY es que esa belleza es un rompecabezas\\nPero pa' montarlo aquí tengo la pieza\\n¡Oye!\\nDespacito\\nQuiero respirar tu cuello despacito\\nDeja que te diga cosas al oído\\nPara que te acuerdes si no estás conmigo\\nDespacito\\nQuiero desnudarte a besos despacito\\nFirmo en las paredes de tu laberinto\\nY hacer de tu cuerpo todo un manuscrito\\n(Sube, sube, sube\\nSube, sube)\\n\\nQuiero ver bailar tu pelo, quiero ser tu ritmo (Woah, woah)\\nQue le enseñes a mi boca (Woah, woah)\\nTus lugares favoritos (Favorito, favorito, baby)\\nDéjame sobrepasar tus zonas de peligro (Woah, woah)\\nHasta provocar tus gritos (Woah, woah)\\nY que olvides tu apellido\\n\\nDespacito\\nThis is how we do it down in Puerto Rico\\nI just wanna hear you screaming, \\\"¡Ay, Bendito!\\\"\\nI can move forever cuando esté contigo\\n¡Báilalo!\\nPasito a pasito, suave suavecito\\nNos vamos pegando, poquito a poquito\\nQue le enseñes a mi boca\\nTus lugares favoritos\\n(Favorito, favorito, baby)\\nPasito a pasito, suave suavecito\\nNos vamos pegando, poquito a poquito\\nHasta provocar tus gritos (Fonsi)\\nY que olvides tu apellido (D.Y.)\\nDespacito\""
   ]
  },
  {
   "cell_type": "code",
   "execution_count": 11,
   "metadata": {},
   "outputs": [
    {
     "data": {
      "text/plain": [
       "'ko'"
      ]
     },
     "execution_count": 11,
     "metadata": {},
     "output_type": "execute_result"
    }
   ],
   "source": [
    "#kr_string = kr_string.replace(\"\\n\", \" \")\n",
    "\n",
    "\n",
    "txtblb = TextBlob(kr_string)\n",
    "\n",
    "txtblb.detect_language()"
   ]
  },
  {
   "cell_type": "code",
   "execution_count": 12,
   "metadata": {},
   "outputs": [
    {
     "data": {
      "text/plain": [
       "'su'"
      ]
     },
     "execution_count": 12,
     "metadata": {},
     "output_type": "execute_result"
    }
   ],
   "source": [
    "#kr_rom_string = kr_rom_string.replace(\"\\n\", \" \")\n",
    "\n",
    "\n",
    "txtblb = TextBlob(kr_rom_string)\n",
    "\n",
    "txtblb.detect_language()"
   ]
  },
  {
   "cell_type": "code",
   "execution_count": 13,
   "metadata": {},
   "outputs": [
    {
     "data": {
      "text/plain": [
       "'en'"
      ]
     },
     "execution_count": 13,
     "metadata": {},
     "output_type": "execute_result"
    }
   ],
   "source": [
    "#en_string = en_string.replace(\"\\n\", \" \")\n",
    "\n",
    "\n",
    "txtblb = TextBlob(en_string)\n",
    "\n",
    "txtblb.detect_language()"
   ]
  },
  {
   "cell_type": "code",
   "execution_count": 18,
   "metadata": {},
   "outputs": [
    {
     "data": {
      "text/plain": [
       "'es'"
      ]
     },
     "execution_count": 18,
     "metadata": {},
     "output_type": "execute_result"
    }
   ],
   "source": [
    "#sp_en_string = en_string.replace(\"\\n\", \" \")\n",
    "\n",
    "\n",
    "txtblb = TextBlob(sp_en_string)\n",
    "\n",
    "txtblb.detect_language()"
   ]
  },
  {
   "cell_type": "code",
   "execution_count": null,
   "metadata": {},
   "outputs": [],
   "source": []
  }
 ],
 "metadata": {
  "kernelspec": {
   "display_name": "Python 3",
   "language": "python",
   "name": "python3"
  },
  "language_info": {
   "codemirror_mode": {
    "name": "ipython",
    "version": 3
   },
   "file_extension": ".py",
   "mimetype": "text/x-python",
   "name": "python",
   "nbconvert_exporter": "python",
   "pygments_lexer": "ipython3",
   "version": "3.8.5"
  }
 },
 "nbformat": 4,
 "nbformat_minor": 4
}
