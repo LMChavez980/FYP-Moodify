{
 "cells": [
  {
   "cell_type": "code",
   "execution_count": 7,
   "metadata": {},
   "outputs": [],
   "source": [
    "import pandas as pd\n",
    "import numpy as np\n",
    "import re\n",
    "from nltk.corpus import stopwords\n",
    "from nltk.stem import WordNetLemmatizer \n",
    "from sklearn.feature_extraction import text\n",
    "from sklearn.feature_extraction.text import TfidfVectorizer\n",
    "from sklearn.model_selection import train_test_split\n",
    "from sklearn.model_selection import cross_val_score\n",
    "from sklearn.metrics import confusion_matrix\n",
    "from sklearn.metrics import accuracy_score\n",
    "from sklearn.metrics import classification_report\n",
    "from sklearn.metrics import precision_score\n",
    "from sklearn.metrics import recall_score\n",
    "from sklearn.metrics import f1_score\n",
    "from sklearn.metrics import plot_roc_curve\n",
    "from sklearn.metrics import plot_precision_recall_curve\n",
    "from sklearn.metrics import plot_confusion_matrix\n",
    "from sklearn.model_selection import KFold\n",
    "from sklearn.naive_bayes import MultinomialNB, GaussianNB, BernoulliNB, ComplementNB\n",
    "from sklearn.svm import SVC\n",
    "from sklearn.linear_model import LogisticRegression\n",
    "from sklearn.linear_model import SGDClassifier\n",
    "from sklearn.model_selection import GridSearchCV, RandomizedSearchCV\n",
    "from sklearn.pipeline import Pipeline\n",
    "import matplotlib.pyplot as plt\n",
    "import joblib"
   ]
  },
  {
   "cell_type": "code",
   "execution_count": 8,
   "metadata": {},
   "outputs": [],
   "source": [
    "contractions = {\"aight\": \"alright\",\n",
    "\"ain't\": \"am not\",\n",
    "\"amn't\": \"am not\",\n",
    "\"aren't\": \"are not\",\n",
    "\"can't\": \"cannot\",\n",
    "\"'cause\": \"because\",\n",
    "\"could've\": \"could have\",\n",
    "\"couldn't\": \"could not\",\n",
    "\"couldn't've\": \"could not have\",\n",
    "\"daren't\": \"dared not\",\n",
    "\"daresn't\": \"dare not\",\n",
    "\"dasn't\": \"dare not\",\n",
    "\"didn't\":\"did not\",\n",
    "\"doesn't\":\"does not\",\n",
    "\"don't\": \"do not\",\n",
    "\"dunno\": \"do not know\",\n",
    "\"d'ye\": \"do you\",\n",
    "\"e'er\":\"ever\",\n",
    "\"'em\": \"them\",\n",
    "\"everybody's\":\"everybody is\",\n",
    "\"everyone's\": \"everyone is\",\n",
    "\"finna\": \"going to\",\n",
    "\"g'day\": \"good day\",\n",
    "\"gimme\":\"give me\",\n",
    "\"giv'n\": \"given\",\n",
    "\"gonna\": \"going to\",\n",
    "\"gon't\": \"go not\",\n",
    "\"gotta\":\"got to\",\n",
    "\"hadn't\":\"had not\",\n",
    "\"had've\":\"had have\",\n",
    "\"hasn't\": \"has not\",\n",
    "\"haven't\":\"have not\",\n",
    "\"he'd\": \"he would\",\n",
    "\"he'll\": \"he will\", \n",
    "\"he's\": \"he is\",\n",
    "\"here's\": \"here is\",\n",
    "\"he've\":\"he have\",\n",
    "\"how'd\": \"how did\", \n",
    "\"howdy\": \"how do you do\",\n",
    "\"how'll\": \"how will\",\n",
    "\"how're\": \"how are\",\n",
    "\"how's\": \"how is\",\n",
    "\"I'd\": \"I would\",\n",
    "\"I'd've\": \"I would have\",\n",
    "\"I'll\": \"I will\",\n",
    "\"I'm\": \"I am\",\n",
    "\"I'm'a\": \"I am about to\",\n",
    "\"I'm'o\": \"I am going to\",\n",
    "\"innit\": \"is it not\",\n",
    "\"I've\": \"I have\",\n",
    "\"isn't\": \"is not\",\n",
    "\"it'd\": \"it would\",\n",
    "\"it'll\": \"it will\",\n",
    "\"it's\": \"it is\",\n",
    "\"iunno\": \"I don't know\",\n",
    "\"kinda\": \"kind of\",\n",
    "\"let's\": \"let us\",\n",
    "\"ma'am\": \"madam\",\n",
    "\"mayn't\": \"may not\",\n",
    "\"may've\": \"may have\",\n",
    "\"methinks\": \"me thinks\",\n",
    "\"mightn't\": \"might not\",\n",
    "\"might've\": \"might have\",\n",
    "\"mustn't\": \"must not\",\n",
    "\"mustn't've\": \"must not have\",\n",
    "\"must've\": \"must have\",\n",
    "\"needn't\":\"need not\",\n",
    "\"nal\" : \"and all\",\n",
    "\"ne'er\": \"never\",\n",
    "\"o'clock\": \"of the clock\",\n",
    "\"o'er\": \"over\",\n",
    "\"ol'\": \"old\",\n",
    "\"oughtn't\": \"ought not\",\n",
    "\"shan't\": \"shall not\",\n",
    "\"she'd\": \"she would\",\n",
    "\"she'll\": \"she will\",\n",
    "\"she's\": \"she is\",\n",
    "\"should've\": \"should have\",\n",
    "\"shouldn't\" :\"should not\",\n",
    "\"shouldn't've\": \"should not have\",\n",
    "\"somebody's\":\"somebody is\",\n",
    "\"someone's\": \"someone is\",\n",
    "\"something's\": \"something is\",\n",
    "\"so're\":\"so are\",\n",
    "\"that'll\":\"that will\",\n",
    "\"that're\": \"that are\",\n",
    "\"that's\": \"that is\",\n",
    "\"that'd\": \"that would\",\n",
    "\"there'd\": \"there would\",\n",
    "\"there'll\":\"there will\",\n",
    "\"there're\": \"there are\",\n",
    "\"there's\": \"there has\",\n",
    "\"these're\": \"these are\",\n",
    "\"these've\": \"these have\",\n",
    "\"they'd\": \"they would\",\n",
    "\"they'll\": \"they will\",\n",
    "\"they're\": \"they are\",\n",
    "\"they've\": \"they have\",\n",
    "\"this's\": \"this is\",\n",
    "\"those're\": \"those are\",\n",
    "\"those've\": \"those have\",\n",
    "\"'tis\": \"it is\",\n",
    "\"to've\": \"to have\",\n",
    "\"'twas\": \"it was\",\n",
    "\"wanna\": \"want to\",\n",
    "\"wasn't\": \"was not\",\n",
    "\"we'd\": \"we would\",\n",
    "\"we'd've\": \"we would have\",\n",
    "\"we'll\": \"we will\",\n",
    "\"we're\": \"we are\",\n",
    "\"we've\": \"we have\", \n",
    "\"weren't\": \"were not\", \n",
    "\"what'd\": \"what did\",\n",
    "\"what'll\": \"what will\",\n",
    "\"what're\": \"what are\",\n",
    "\"what's\": \"what is\",\n",
    "\"what've\": \"what have\",\n",
    "\"when's\": \"when is\",\n",
    "\"where'd\": \"where did\",\n",
    "\"where'll\": \"where will\",\n",
    "\"where're\": \"where are\",\n",
    "\"where's\": \"where is\",\n",
    "\"where've\": \"where have\",\n",
    "\"which'd\": \"which would\",\n",
    "\"which'll\": \"which will\",\n",
    "\"which're\": \"which are\",\n",
    "\"which's\": \"which is\",\n",
    "\"which've\": \"which have\",\n",
    "\"who'd\": \"who would\",\n",
    "\"who'd've\": \"who would have\",\n",
    "\"who'll\": \"who will\",\n",
    "\"who're\": \"who are\",\n",
    "\"who's\": \"who is\",\n",
    "\"who've\": \"who have\",\n",
    "\"why'd\": \"why did\",\n",
    "\"why're\": \"why are\",\n",
    "\"why's\": \"why is\",\n",
    "\"willn't\": \"will not\",\n",
    "\"won't\": \"will not\",\n",
    "\"wonnot\": \"will not\",\n",
    "\"would've\": \"would have\",\n",
    "\"wouldn't\": \"would not\",\n",
    "\"wouldn't've\": \"would not have\",\n",
    "\"y'all\": \"you all\",\n",
    "\"y'all'd've\": \"you all would have\",\n",
    "\"y'all'd'n've\": \"you all would not have\",\n",
    "\"y'all're\": \"you all are\",\n",
    "\"y'at\": \"you at\",\n",
    "\"you'd\": \"you would\",\n",
    "\"you'll\": \"you will\",\n",
    "\"you're\": \"you are\",\n",
    "\"you've\": \"you have\"\n",
    "               }"
   ]
  },
  {
   "cell_type": "code",
   "execution_count": 9,
   "metadata": {},
   "outputs": [],
   "source": [
    "def cal_hm_acc(class_report):\n",
    "    labels = df['lyrics sentiment'].value_counts().index.tolist()\n",
    "    sum_recall = 0\n",
    "    for x in labels: \n",
    "        sum_recall += 1/class_report[x]['recall']\n",
    "    harmonic_mean_acc = 1/((1/len(labels))*(sum_recall))\n",
    "    return harmonic_mean_acc"
   ]
  },
  {
   "cell_type": "code",
   "execution_count": 10,
   "metadata": {},
   "outputs": [
    {
     "data": {
      "text/html": [
       "<div>\n",
       "<style scoped>\n",
       "    .dataframe tbody tr th:only-of-type {\n",
       "        vertical-align: middle;\n",
       "    }\n",
       "\n",
       "    .dataframe tbody tr th {\n",
       "        vertical-align: top;\n",
       "    }\n",
       "\n",
       "    .dataframe thead th {\n",
       "        text-align: right;\n",
       "    }\n",
       "</style>\n",
       "<table border=\"1\" class=\"dataframe\">\n",
       "  <thead>\n",
       "    <tr style=\"text-align: right;\">\n",
       "      <th></th>\n",
       "      <th>artist</th>\n",
       "      <th>title</th>\n",
       "      <th>lyrics sentiment</th>\n",
       "      <th>mood</th>\n",
       "      <th>lyrics</th>\n",
       "      <th>spotify_id</th>\n",
       "      <th>danceability</th>\n",
       "      <th>energy</th>\n",
       "      <th>key</th>\n",
       "      <th>loudness</th>\n",
       "      <th>mode</th>\n",
       "      <th>speechiness</th>\n",
       "      <th>acousticness</th>\n",
       "      <th>instrumentalness</th>\n",
       "      <th>liveness</th>\n",
       "      <th>valence</th>\n",
       "      <th>tempo</th>\n",
       "    </tr>\n",
       "    <tr>\n",
       "      <th>index</th>\n",
       "      <th></th>\n",
       "      <th></th>\n",
       "      <th></th>\n",
       "      <th></th>\n",
       "      <th></th>\n",
       "      <th></th>\n",
       "      <th></th>\n",
       "      <th></th>\n",
       "      <th></th>\n",
       "      <th></th>\n",
       "      <th></th>\n",
       "      <th></th>\n",
       "      <th></th>\n",
       "      <th></th>\n",
       "      <th></th>\n",
       "      <th></th>\n",
       "      <th></th>\n",
       "    </tr>\n",
       "  </thead>\n",
       "  <tbody>\n",
       "    <tr>\n",
       "      <th>ML1</th>\n",
       "      <td>George Michael</td>\n",
       "      <td>I Want Your Sex</td>\n",
       "      <td>pos</td>\n",
       "      <td>happy</td>\n",
       "      <td>In the past there were arguments for and again...</td>\n",
       "      <td>6QnFHieoch6U9J8zfv6hml</td>\n",
       "      <td>0.812</td>\n",
       "      <td>0.600</td>\n",
       "      <td>10</td>\n",
       "      <td>-13.418</td>\n",
       "      <td>0</td>\n",
       "      <td>0.0538</td>\n",
       "      <td>0.005090</td>\n",
       "      <td>0.02480</td>\n",
       "      <td>0.0465</td>\n",
       "      <td>0.800</td>\n",
       "      <td>99.189</td>\n",
       "    </tr>\n",
       "    <tr>\n",
       "      <th>ML2</th>\n",
       "      <td>Rob Zombie</td>\n",
       "      <td>Pussy Liquor</td>\n",
       "      <td>neg</td>\n",
       "      <td>angry</td>\n",
       "      <td>Baby :\\nGimme a B\\nGimme a A\\nGimme a B\\nGimme...</td>\n",
       "      <td>03VzAAMs5PrLM42XR7ijuc</td>\n",
       "      <td>0.540</td>\n",
       "      <td>0.923</td>\n",
       "      <td>10</td>\n",
       "      <td>-3.965</td>\n",
       "      <td>1</td>\n",
       "      <td>0.0324</td>\n",
       "      <td>0.000347</td>\n",
       "      <td>0.00614</td>\n",
       "      <td>0.4840</td>\n",
       "      <td>0.531</td>\n",
       "      <td>112.936</td>\n",
       "    </tr>\n",
       "    <tr>\n",
       "      <th>ML3</th>\n",
       "      <td>Katatonia</td>\n",
       "      <td>12</td>\n",
       "      <td>neg</td>\n",
       "      <td>sad</td>\n",
       "      <td>Black theatre of love\\nViolet dancers cast the...</td>\n",
       "      <td>4GCOPgFknQSHVXuAAdQYjk</td>\n",
       "      <td>0.134</td>\n",
       "      <td>0.674</td>\n",
       "      <td>6</td>\n",
       "      <td>-8.428</td>\n",
       "      <td>1</td>\n",
       "      <td>0.0478</td>\n",
       "      <td>0.000460</td>\n",
       "      <td>0.70300</td>\n",
       "      <td>0.2040</td>\n",
       "      <td>0.162</td>\n",
       "      <td>69.289</td>\n",
       "    </tr>\n",
       "    <tr>\n",
       "      <th>ML4</th>\n",
       "      <td>Bing Crosby</td>\n",
       "      <td>Swinging On A Star</td>\n",
       "      <td>pos</td>\n",
       "      <td>happy</td>\n",
       "      <td>Would you like to swing on a star\\nCarry moonb...</td>\n",
       "      <td>7xy0PAZxzGDOcYzyptvprd</td>\n",
       "      <td>0.706</td>\n",
       "      <td>0.167</td>\n",
       "      <td>0</td>\n",
       "      <td>-13.137</td>\n",
       "      <td>1</td>\n",
       "      <td>0.0602</td>\n",
       "      <td>0.896000</td>\n",
       "      <td>0.00000</td>\n",
       "      <td>0.1010</td>\n",
       "      <td>0.724</td>\n",
       "      <td>139.763</td>\n",
       "    </tr>\n",
       "    <tr>\n",
       "      <th>ML5</th>\n",
       "      <td>Ludacris</td>\n",
       "      <td>Get Back</td>\n",
       "      <td>neg</td>\n",
       "      <td>angry</td>\n",
       "      <td>Heads up! (woop, woop) Heads up! (woop, woop)\\...</td>\n",
       "      <td>6o3MvjWfF0jczTzPRcfZsK</td>\n",
       "      <td>0.562</td>\n",
       "      <td>0.638</td>\n",
       "      <td>1</td>\n",
       "      <td>-5.141</td>\n",
       "      <td>1</td>\n",
       "      <td>0.2750</td>\n",
       "      <td>0.055900</td>\n",
       "      <td>0.00000</td>\n",
       "      <td>0.1270</td>\n",
       "      <td>0.165</td>\n",
       "      <td>171.758</td>\n",
       "    </tr>\n",
       "  </tbody>\n",
       "</table>\n",
       "</div>"
      ],
      "text/plain": [
       "               artist               title lyrics sentiment   mood  \\\n",
       "index                                                               \n",
       "ML1    George Michael     I Want Your Sex              pos  happy   \n",
       "ML2        Rob Zombie        Pussy Liquor              neg  angry   \n",
       "ML3         Katatonia                  12              neg    sad   \n",
       "ML4       Bing Crosby  Swinging On A Star              pos  happy   \n",
       "ML5          Ludacris            Get Back              neg  angry   \n",
       "\n",
       "                                                  lyrics  \\\n",
       "index                                                      \n",
       "ML1    In the past there were arguments for and again...   \n",
       "ML2    Baby :\\nGimme a B\\nGimme a A\\nGimme a B\\nGimme...   \n",
       "ML3    Black theatre of love\\nViolet dancers cast the...   \n",
       "ML4    Would you like to swing on a star\\nCarry moonb...   \n",
       "ML5    Heads up! (woop, woop) Heads up! (woop, woop)\\...   \n",
       "\n",
       "                   spotify_id  danceability  energy  key  loudness  mode  \\\n",
       "index                                                                      \n",
       "ML1    6QnFHieoch6U9J8zfv6hml         0.812   0.600   10   -13.418     0   \n",
       "ML2    03VzAAMs5PrLM42XR7ijuc         0.540   0.923   10    -3.965     1   \n",
       "ML3    4GCOPgFknQSHVXuAAdQYjk         0.134   0.674    6    -8.428     1   \n",
       "ML4    7xy0PAZxzGDOcYzyptvprd         0.706   0.167    0   -13.137     1   \n",
       "ML5    6o3MvjWfF0jczTzPRcfZsK         0.562   0.638    1    -5.141     1   \n",
       "\n",
       "       speechiness  acousticness  instrumentalness  liveness  valence    tempo  \n",
       "index                                                                           \n",
       "ML1         0.0538      0.005090           0.02480    0.0465    0.800   99.189  \n",
       "ML2         0.0324      0.000347           0.00614    0.4840    0.531  112.936  \n",
       "ML3         0.0478      0.000460           0.70300    0.2040    0.162   69.289  \n",
       "ML4         0.0602      0.896000           0.00000    0.1010    0.724  139.763  \n",
       "ML5         0.2750      0.055900           0.00000    0.1270    0.165  171.758  "
      ]
     },
     "execution_count": 10,
     "metadata": {},
     "output_type": "execute_result"
    }
   ],
   "source": [
    "df = pd.read_csv('MoodyLyrics-1865-Sentiment-Audio.csv', index_col=0, encoding=\"utf-8\")\n",
    "df.head(5)"
   ]
  },
  {
   "cell_type": "code",
   "execution_count": 11,
   "metadata": {},
   "outputs": [
    {
     "data": {
      "text/html": [
       "<div>\n",
       "<style scoped>\n",
       "    .dataframe tbody tr th:only-of-type {\n",
       "        vertical-align: middle;\n",
       "    }\n",
       "\n",
       "    .dataframe tbody tr th {\n",
       "        vertical-align: top;\n",
       "    }\n",
       "\n",
       "    .dataframe thead th {\n",
       "        text-align: right;\n",
       "    }\n",
       "</style>\n",
       "<table border=\"1\" class=\"dataframe\">\n",
       "  <thead>\n",
       "    <tr style=\"text-align: right;\">\n",
       "      <th></th>\n",
       "      <th>title</th>\n",
       "      <th>artist</th>\n",
       "      <th>lyrics sentiment</th>\n",
       "    </tr>\n",
       "    <tr>\n",
       "      <th>index</th>\n",
       "      <th></th>\n",
       "      <th></th>\n",
       "      <th></th>\n",
       "    </tr>\n",
       "  </thead>\n",
       "  <tbody>\n",
       "    <tr>\n",
       "      <th>ML1</th>\n",
       "      <td>I Want Your Sex</td>\n",
       "      <td>George Michael</td>\n",
       "      <td>pos</td>\n",
       "    </tr>\n",
       "    <tr>\n",
       "      <th>ML2</th>\n",
       "      <td>Pussy Liquor</td>\n",
       "      <td>Rob Zombie</td>\n",
       "      <td>neg</td>\n",
       "    </tr>\n",
       "    <tr>\n",
       "      <th>ML3</th>\n",
       "      <td>12</td>\n",
       "      <td>Katatonia</td>\n",
       "      <td>neg</td>\n",
       "    </tr>\n",
       "    <tr>\n",
       "      <th>ML4</th>\n",
       "      <td>Swinging On A Star</td>\n",
       "      <td>Bing Crosby</td>\n",
       "      <td>pos</td>\n",
       "    </tr>\n",
       "    <tr>\n",
       "      <th>ML5</th>\n",
       "      <td>Get Back</td>\n",
       "      <td>Ludacris</td>\n",
       "      <td>neg</td>\n",
       "    </tr>\n",
       "    <tr>\n",
       "      <th>...</th>\n",
       "      <td>...</td>\n",
       "      <td>...</td>\n",
       "      <td>...</td>\n",
       "    </tr>\n",
       "    <tr>\n",
       "      <th>ML1996</th>\n",
       "      <td>If It Means a Lot to You</td>\n",
       "      <td>A Day To Remember</td>\n",
       "      <td>neg</td>\n",
       "    </tr>\n",
       "    <tr>\n",
       "      <th>ML1997</th>\n",
       "      <td>Beautiful, Loved and Blessed</td>\n",
       "      <td>Prince</td>\n",
       "      <td>pos</td>\n",
       "    </tr>\n",
       "    <tr>\n",
       "      <th>ML1998</th>\n",
       "      <td>The Game</td>\n",
       "      <td>Deine Lakaien</td>\n",
       "      <td>neg</td>\n",
       "    </tr>\n",
       "    <tr>\n",
       "      <th>ML1999</th>\n",
       "      <td>Talking Bout My Baby</td>\n",
       "      <td>Fatboy Slim</td>\n",
       "      <td>pos</td>\n",
       "    </tr>\n",
       "    <tr>\n",
       "      <th>ML2000</th>\n",
       "      <td>All Around The World (Punk Debutante)</td>\n",
       "      <td>Cooler Kids</td>\n",
       "      <td>pos</td>\n",
       "    </tr>\n",
       "  </tbody>\n",
       "</table>\n",
       "<p>1865 rows × 3 columns</p>\n",
       "</div>"
      ],
      "text/plain": [
       "                                        title             artist  \\\n",
       "index                                                              \n",
       "ML1                           I Want Your Sex     George Michael   \n",
       "ML2                              Pussy Liquor         Rob Zombie   \n",
       "ML3                                        12          Katatonia   \n",
       "ML4                        Swinging On A Star        Bing Crosby   \n",
       "ML5                                  Get Back           Ludacris   \n",
       "...                                       ...                ...   \n",
       "ML1996               If It Means a Lot to You  A Day To Remember   \n",
       "ML1997           Beautiful, Loved and Blessed             Prince   \n",
       "ML1998                               The Game      Deine Lakaien   \n",
       "ML1999                   Talking Bout My Baby        Fatboy Slim   \n",
       "ML2000  All Around The World (Punk Debutante)        Cooler Kids   \n",
       "\n",
       "       lyrics sentiment  \n",
       "index                    \n",
       "ML1                 pos  \n",
       "ML2                 neg  \n",
       "ML3                 neg  \n",
       "ML4                 pos  \n",
       "ML5                 neg  \n",
       "...                 ...  \n",
       "ML1996              neg  \n",
       "ML1997              pos  \n",
       "ML1998              neg  \n",
       "ML1999              pos  \n",
       "ML2000              pos  \n",
       "\n",
       "[1865 rows x 3 columns]"
      ]
     },
     "execution_count": 11,
     "metadata": {},
     "output_type": "execute_result"
    }
   ],
   "source": [
    "df[[\"title\", \"artist\", \"lyrics sentiment\"]]"
   ]
  },
  {
   "cell_type": "code",
   "execution_count": 12,
   "metadata": {},
   "outputs": [
    {
     "data": {
      "text/plain": [
       "index\n",
       "ML1    in the past there were argument for and agains...\n",
       "ML2    baby give me a give me a a give me a give me a...\n",
       "ML3    black theatre of love violet dancer cast their...\n",
       "Name: lyrics, dtype: object"
      ]
     },
     "execution_count": 12,
     "metadata": {},
     "output_type": "execute_result"
    }
   ],
   "source": [
    "def clean_lyrics(lyrics):\n",
    "    # Replace next line characters with spaces\n",
    "    lemmatizer = WordNetLemmatizer()\n",
    "    lyrics = lyrics.replace(\"\\\\n\", \" \")\n",
    "    lyrics = lyrics.replace(\"’\", \"'\")\n",
    "    #print(\"Changed next line to space:\\n\",lyrics, \"\\n\")\n",
    "    # Remove section headers in brackets - will include adlibs and background vocals\n",
    "    lyrics = re.sub(\"[\\(\\[].*?[\\)\\]]\", \"\", lyrics)\n",
    "    #print(\"Removed section headers in brackets:\\n\", lyrics, \"\\n\")\n",
    "    # Remove section headers and terms not in brackets - repeat x2 or repeat 2x or repeat 2\n",
    "    headers = [\"Verse\", \"Chorus\", \"Repeat\", \"Solo\", \"Bridge\", \"Interlude\", \"Instrumental\"]\n",
    "    for header in headers:\n",
    "        lyrics = re.sub(r'(?:\\b'+header+r'\\b\\s\\dx|\\b'+header+r'\\b\\sx\\d|\\b'+header+r'\\b\\s\\d|\\b'+header+r'\\b\\s\\d\\:)', \"\", lyrics, flags=re.IGNORECASE)\n",
    "        lyrics = re.sub(r'\\s+?(?:\\b'+header+r'\\b)\\s*?', \"\", lyrics)\n",
    "    \n",
    "    # Expand contractions\n",
    "    word_list = lyrics.split()\n",
    "    for i in range(0, len(word_list)):\n",
    "        word = word_list[i].lower()\n",
    "        if word in contractions.keys():\n",
    "            word_list[i] = contractions[word]\n",
    "            \n",
    "    lyrics = ' '.join(word_list)\n",
    "    \n",
    "    # Remove remaining numbers\n",
    "    lyrics = re.sub(r'\\d+', \" \", lyrics)\n",
    "    \n",
    "    # Remove punctuations\n",
    "    punctuations = '''-;:?'\"\\,<>./@#$%^&*_~'''\n",
    "    \n",
    "    for punc in punctuations:\n",
    "        lyrics = lyrics.replace(punc, \" \")\n",
    "        \n",
    "    lem_lyrics = []\n",
    "    list_lyrics = lyrics.split()\n",
    "    for i in range(len(list_lyrics)):\n",
    "        word = list_lyrics[i].lower()\n",
    "        if not (len(word) == 1 and word not in ['i', 'a']):\n",
    "            word = lemmatizer.lemmatize(word)\n",
    "            lem_lyrics.append(word)\n",
    "    \n",
    "    # Remove any double spaces\n",
    "    lyrics = ' '.join(lem_lyrics)\n",
    "    \n",
    "    return lyrics\n",
    "\n",
    "df['lyrics'] = df['lyrics'].apply(clean_lyrics)\n",
    "\n",
    "df['lyrics'].head(3)\n"
   ]
  },
  {
   "cell_type": "code",
   "execution_count": 13,
   "metadata": {},
   "outputs": [
    {
     "data": {
      "text/plain": [
       "array(['pos', 'neg', 'neg', 'pos'], dtype='<U3')"
      ]
     },
     "execution_count": 13,
     "metadata": {},
     "output_type": "execute_result"
    }
   ],
   "source": [
    "targetLabels = np.asarray(df['lyrics sentiment'], dtype=\"str\")\n",
    "targetLabels[:4]"
   ]
  },
  {
   "cell_type": "markdown",
   "metadata": {},
   "source": [
    "#### Split dataset into 80:20 split of train and test"
   ]
  },
  {
   "cell_type": "code",
   "execution_count": 14,
   "metadata": {},
   "outputs": [],
   "source": [
    "lyrics = np.asarray(df['lyrics'], dtype=\"str\")\n",
    "instances_train, instances_test, target_train, target_test = train_test_split(lyrics, targetLabels, test_size=0.2, random_state=0)"
   ]
  },
  {
   "cell_type": "markdown",
   "metadata": {},
   "source": [
    "### Bernouilli Naive Bayes"
   ]
  },
  {
   "cell_type": "code",
   "execution_count": 16,
   "metadata": {},
   "outputs": [
    {
     "name": "stdout",
     "output_type": "stream",
     "text": [
      "Train: (1492, 5000) Test: (373, 5000)\n"
     ]
    }
   ],
   "source": [
    "vectorizer = TfidfVectorizer(max_df=0.5, max_features=5000)\n",
    "#vectorizer = TfidfVectorizer()\n",
    "#vectorizer = TfidfVectorizer(use_idf=False)\n",
    "X_train = vectorizer.fit_transform(instances_train)\n",
    "X_test = vectorizer.transform(instances_test)\n",
    "print(\"Train:\", X_train.shape, \"Test:\", X_test.shape)"
   ]
  },
  {
   "cell_type": "code",
   "execution_count": 17,
   "metadata": {},
   "outputs": [
    {
     "name": "stdout",
     "output_type": "stream",
     "text": [
      "Score by fold: [0.74       0.73333333 0.73825503 0.73154362 0.73154362 0.73154362\n",
      " 0.66442953 0.73154362 0.65100671 0.69798658]\n",
      "Accuracy: 0.7151 (+/- 0.06)\n"
     ]
    }
   ],
   "source": [
    "bnb_model = BernoulliNB()\n",
    "scores = cross_val_score(bnb_model, X_train, target_train, cv=10)\n",
    "print(\"Score by fold: \" + str(scores))\n",
    "print(\"Accuracy: %0.4f (+/- %0.2f)\" % (scores.mean(), scores.std() * 2))"
   ]
  },
  {
   "cell_type": "code",
   "execution_count": 18,
   "metadata": {
    "scrolled": false
   },
   "outputs": [
    {
     "name": "stdout",
     "output_type": "stream",
     "text": [
      "Accuracy = 0.7292225201072386\n",
      "Confusion Matrix:\n"
     ]
    },
    {
     "data": {
      "image/png": "[encoded data removed]",
      "text/plain": [
       "<Figure size 432x288 with 2 Axes>"
      ]
     },
     "metadata": {
      "needs_background": "light"
     },
     "output_type": "display_data"
    },
    {
     "name": "stdout",
     "output_type": "stream",
     "text": [
      "ROC Curve:\n"
     ]
    },
    {
     "data": {
      "image/png": "[encoded data removed]",
      "text/plain": [
       "<Figure size 432x288 with 1 Axes>"
      ]
     },
     "metadata": {
      "needs_background": "light"
     },
     "output_type": "display_data"
    },
    {
     "name": "stdout",
     "output_type": "stream",
     "text": [
      "PR Curve:\n"
     ]
    },
    {
     "data": {
      "image/png": "[encoded data removed]",
      "text/plain": [
       "<Figure size 432x288 with 1 Axes>"
      ]
     },
     "metadata": {
      "needs_background": "light"
     },
     "output_type": "display_data"
    },
    {
     "name": "stdout",
     "output_type": "stream",
     "text": [
      "              precision    recall  f1-score   support\n",
      "\n",
      "         neg       0.80      0.71      0.76       219\n",
      "         pos       0.65      0.75      0.70       154\n",
      "\n",
      "    accuracy                           0.73       373\n",
      "   macro avg       0.73      0.73      0.73       373\n",
      "weighted avg       0.74      0.73      0.73       373\n",
      "\n"
     ]
    }
   ],
   "source": [
    "bnb_model.fit(X_train, target_train)\n",
    "predictions = bnb_model.predict(X_test)\n",
    "print(\"Accuracy = \" + str(accuracy_score(target_test, predictions, normalize=True)))\n",
    "#Output the confusion matrix on the test set\n",
    "print(\"Confusion Matrix:\")\n",
    "plot_confusion_matrix(bnb_model, X_test, target_test) \n",
    "plt.show()\n",
    "print(\"ROC Curve:\")\n",
    "plot_roc_curve(bnb_model, X_test, target_test)\n",
    "plt.show()\n",
    "print(\"PR Curve:\")\n",
    "plot_precision_recall_curve(bnb_model, X_test, target_test)\n",
    "plt.show()\n",
    "print(classification_report(target_test, predictions))"
   ]
  },
  {
   "cell_type": "code",
   "execution_count": 19,
   "metadata": {},
   "outputs": [
    {
     "data": {
      "text/plain": [
       "0.7322165574168487"
      ]
     },
     "execution_count": 19,
     "metadata": {},
     "output_type": "execute_result"
    }
   ],
   "source": [
    "cal_hm_acc(classification_report(target_test, predictions, output_dict=True))"
   ]
  },
  {
   "cell_type": "markdown",
   "metadata": {},
   "source": [
    "### Multinomial Naive Bayes"
   ]
  },
  {
   "cell_type": "code",
   "execution_count": 20,
   "metadata": {},
   "outputs": [
    {
     "name": "stdout",
     "output_type": "stream",
     "text": [
      "Train: (1492, 2000) Test: (373, 2000)\n"
     ]
    }
   ],
   "source": [
    "vectorizer = TfidfVectorizer(max_df=0.8, max_features=2000, min_df= 7)\n",
    "#vectorizer = TfidfVectorizer()\n",
    "#vectorizer = TfidfVectorizer(use_idf=False)\n",
    "X_train = vectorizer.fit_transform(instances_train)\n",
    "X_test = vectorizer.transform(instances_test)\n",
    "print(\"Train:\", X_train.shape, \"Test:\", X_test.shape)"
   ]
  },
  {
   "cell_type": "code",
   "execution_count": 21,
   "metadata": {},
   "outputs": [
    {
     "name": "stdout",
     "output_type": "stream",
     "text": [
      "Accuracy: 0.7084 (+/- 0.04)\n"
     ]
    }
   ],
   "source": [
    "mnb_model = MultinomialNB()\n",
    "scores = cross_val_score(mnb_model, X_train, target_train, cv=10)\n",
    "print(\"Accuracy: %0.4f (+/- %0.2f)\" % (scores.mean(), scores.std() * 2))"
   ]
  },
  {
   "cell_type": "code",
   "execution_count": 22,
   "metadata": {
    "scrolled": true
   },
   "outputs": [
    {
     "name": "stdout",
     "output_type": "stream",
     "text": [
      "Accuracy = 0.739946380697051\n",
      "Confusion Matrix:\n"
     ]
    },
    {
     "data": {
      "image/png": "[encoded data removed]",
      "text/plain": [
       "<Figure size 432x288 with 2 Axes>"
      ]
     },
     "metadata": {
      "needs_background": "light"
     },
     "output_type": "display_data"
    },
    {
     "name": "stdout",
     "output_type": "stream",
     "text": [
      "ROC Curve:\n"
     ]
    },
    {
     "data": {
      "image/png": "[encoded data removed]",
      "text/plain": [
       "<Figure size 432x288 with 1 Axes>"
      ]
     },
     "metadata": {
      "needs_background": "light"
     },
     "output_type": "display_data"
    },
    {
     "name": "stdout",
     "output_type": "stream",
     "text": [
      "PR Curve:\n"
     ]
    },
    {
     "data": {
      "image/png": "[encoded data removed]",
      "text/plain": [
       "<Figure size 432x288 with 1 Axes>"
      ]
     },
     "metadata": {
      "needs_background": "light"
     },
     "output_type": "display_data"
    },
    {
     "name": "stdout",
     "output_type": "stream",
     "text": [
      "              precision    recall  f1-score   support\n",
      "\n",
      "         neg       0.73      0.89      0.80       219\n",
      "         pos       0.77      0.53      0.63       154\n",
      "\n",
      "    accuracy                           0.74       373\n",
      "   macro avg       0.75      0.71      0.71       373\n",
      "weighted avg       0.74      0.74      0.73       373\n",
      "\n"
     ]
    }
   ],
   "source": [
    "mnb_model.fit(X_train, target_train)\n",
    "predictions = mnb_model.predict(X_test)\n",
    "print(\"Accuracy = \" + str(accuracy_score(target_test, predictions, normalize=True)))\n",
    "print(\"Confusion Matrix:\")\n",
    "plot_confusion_matrix(mnb_model, X_test, target_test) \n",
    "plt.show()\n",
    "print(\"ROC Curve:\")\n",
    "plot_roc_curve(mnb_model, X_test, target_test)\n",
    "plt.show()\n",
    "print(\"PR Curve:\")\n",
    "plot_precision_recall_curve(mnb_model, X_test, target_test)\n",
    "plt.show()\n",
    "print(classification_report(target_test, predictions))"
   ]
  },
  {
   "cell_type": "code",
   "execution_count": 23,
   "metadata": {
    "scrolled": true
   },
   "outputs": [
    {
     "data": {
      "text/plain": [
       "0.6651335869883346"
      ]
     },
     "execution_count": 23,
     "metadata": {},
     "output_type": "execute_result"
    }
   ],
   "source": [
    "cal_hm_acc(classification_report(target_test, predictions, output_dict=True))"
   ]
  },
  {
   "cell_type": "markdown",
   "metadata": {},
   "source": [
    "### Complement Naive Bayes"
   ]
  },
  {
   "cell_type": "code",
   "execution_count": 24,
   "metadata": {},
   "outputs": [
    {
     "name": "stdout",
     "output_type": "stream",
     "text": [
      "Train: (1492, 2000) Test: (373, 2000)\n"
     ]
    }
   ],
   "source": [
    "vectorizer = TfidfVectorizer(max_df=0.5, max_features=2000, min_df=5, ngram_range=(1, 2))\n",
    "#vectorizer = TfidfVectorizer()\n",
    "#vectorizer = TfidfVectorizer(use_idf=False)\n",
    "X_train = vectorizer.fit_transform(instances_train)\n",
    "X_test = vectorizer.transform(instances_test)\n",
    "print(\"Train:\", X_train.shape, \"Test:\", X_test.shape)"
   ]
  },
  {
   "cell_type": "code",
   "execution_count": 25,
   "metadata": {},
   "outputs": [
    {
     "name": "stdout",
     "output_type": "stream",
     "text": [
      "Accuracy: 0.7346 (+/- 0.04)\n"
     ]
    }
   ],
   "source": [
    "cnb_model = ComplementNB()\n",
    "scores = cross_val_score(cnb_model, X_train, target_train, cv=10)\n",
    "print(\"Accuracy: %0.4f (+/- %0.2f)\" % (scores.mean(), scores.std() * 2))"
   ]
  },
  {
   "cell_type": "code",
   "execution_count": 26,
   "metadata": {},
   "outputs": [
    {
     "name": "stdout",
     "output_type": "stream",
     "text": [
      "Accuracy = 0.7184986595174263\n",
      "Confusion Matrix:\n"
     ]
    },
    {
     "data": {
      "image/png": "[encoded data removed]",
      "text/plain": [
       "<Figure size 432x288 with 2 Axes>"
      ]
     },
     "metadata": {
      "needs_background": "light"
     },
     "output_type": "display_data"
    },
    {
     "name": "stdout",
     "output_type": "stream",
     "text": [
      "ROC Curve:\n"
     ]
    },
    {
     "data": {
      "image/png": "[encoded data removed]",
      "text/plain": [
       "<Figure size 432x288 with 1 Axes>"
      ]
     },
     "metadata": {
      "needs_background": "light"
     },
     "output_type": "display_data"
    },
    {
     "name": "stdout",
     "output_type": "stream",
     "text": [
      "PR Curve:\n"
     ]
    },
    {
     "data": {
      "image/png": "[encoded data removed]",
      "text/plain": [
       "<Figure size 432x288 with 1 Axes>"
      ]
     },
     "metadata": {
      "needs_background": "light"
     },
     "output_type": "display_data"
    },
    {
     "name": "stdout",
     "output_type": "stream",
     "text": [
      "              precision    recall  f1-score   support\n",
      "\n",
      "         neg       0.75      0.78      0.76       219\n",
      "         pos       0.67      0.64      0.65       154\n",
      "\n",
      "    accuracy                           0.72       373\n",
      "   macro avg       0.71      0.71      0.71       373\n",
      "weighted avg       0.72      0.72      0.72       373\n",
      "\n"
     ]
    }
   ],
   "source": [
    "cnb_model.fit(X_train, target_train)\n",
    "predictions = cnb_model.predict(X_test)\n",
    "print(\"Accuracy = \" + str(accuracy_score(target_test, predictions, normalize=True)))\n",
    "print(\"Confusion Matrix:\")\n",
    "plot_confusion_matrix(cnb_model, X_test, target_test) \n",
    "plt.show()\n",
    "print(\"ROC Curve:\")\n",
    "plot_roc_curve(cnb_model, X_test, target_test)\n",
    "plt.show()\n",
    "print(\"PR Curve:\")\n",
    "plot_precision_recall_curve(cnb_model, X_test, target_test)\n",
    "plt.show()\n",
    "print(classification_report(target_test, predictions))"
   ]
  },
  {
   "cell_type": "code",
   "execution_count": 27,
   "metadata": {},
   "outputs": [
    {
     "data": {
      "text/plain": [
       "0.6993828974434323"
      ]
     },
     "execution_count": 27,
     "metadata": {},
     "output_type": "execute_result"
    }
   ],
   "source": [
    "cal_hm_acc(classification_report(target_test, predictions, output_dict=True))"
   ]
  },
  {
   "cell_type": "markdown",
   "metadata": {},
   "source": [
    "### SVM"
   ]
  },
  {
   "cell_type": "code",
   "execution_count": 149,
   "metadata": {},
   "outputs": [
    {
     "name": "stdout",
     "output_type": "stream",
     "text": [
      "Train: (1492, 5000) Test: (373, 5000)\n"
     ]
    }
   ],
   "source": [
    "vectorizer = TfidfVectorizer(max_df=0.5, max_features=5000)\n",
    "#vectorizer = TfidfVectorizer()\n",
    "#vectorizer = TfidfVectorizer(use_idf=False)\n",
    "X_train = vectorizer.fit_transform(instances_train)\n",
    "X_test = vectorizer.transform(instances_test)\n",
    "print(\"Train:\", X_train.shape, \"Test:\", X_test.shape)"
   ]
  },
  {
   "cell_type": "code",
   "execution_count": 150,
   "metadata": {
    "scrolled": true
   },
   "outputs": [
    {
     "name": "stdout",
     "output_type": "stream",
     "text": [
      "Score by fold: [0.69333333 0.68       0.74496644 0.74496644 0.69798658 0.73154362\n",
      " 0.73154362 0.70469799 0.67785235 0.69127517]\n",
      "Accuracy: 0.7098 (+/- 0.05)\n"
     ]
    }
   ],
   "source": [
    "svm_model = SVC(kernel='linear', class_weight='balanced')\n",
    "#svm_model = SVC(class_weight='balanced')\n",
    "scores = cross_val_score(svm_model, X_train, target_train, cv=10)\n",
    "print(\"Score by fold: \" + str(scores))\n",
    "print(\"Accuracy: %0.4f (+/- %0.2f)\" % (scores.mean(), scores.std() * 2))"
   ]
  },
  {
   "cell_type": "code",
   "execution_count": 151,
   "metadata": {
    "scrolled": true
   },
   "outputs": [
    {
     "name": "stdout",
     "output_type": "stream",
     "text": [
      "Accuracy = 0.6916890080428955\n",
      "Confusion Matrix:\n"
     ]
    },
    {
     "data": {
      "image/png": "[encoded data removed]",
      "text/plain": [
       "<Figure size 432x288 with 2 Axes>"
      ]
     },
     "metadata": {
      "needs_background": "light"
     },
     "output_type": "display_data"
    },
    {
     "name": "stdout",
     "output_type": "stream",
     "text": [
      "ROC Curve:\n"
     ]
    },
    {
     "data": {
      "image/png": "[encoded data removed]",
      "text/plain": [
       "<Figure size 432x288 with 1 Axes>"
      ]
     },
     "metadata": {
      "needs_background": "light"
     },
     "output_type": "display_data"
    },
    {
     "name": "stdout",
     "output_type": "stream",
     "text": [
      "PR Curve:\n"
     ]
    },
    {
     "data": {
      "image/png": "[encoded data removed]",
      "text/plain": [
       "<Figure size 432x288 with 1 Axes>"
      ]
     },
     "metadata": {
      "needs_background": "light"
     },
     "output_type": "display_data"
    },
    {
     "name": "stdout",
     "output_type": "stream",
     "text": [
      "              precision    recall  f1-score   support\n",
      "\n",
      "         neg       0.73      0.76      0.74       219\n",
      "         pos       0.63      0.60      0.62       154\n",
      "\n",
      "    accuracy                           0.69       373\n",
      "   macro avg       0.68      0.68      0.68       373\n",
      "weighted avg       0.69      0.69      0.69       373\n",
      "\n"
     ]
    }
   ],
   "source": [
    "svm_model.fit(X_train, target_train)\n",
    "predictions = svm_model.predict(X_test)\n",
    "print(\"Accuracy = \" + str(accuracy_score(target_test, predictions, normalize=True)))\n",
    "#Output the confusion matrix on the test set\n",
    "print(\"Confusion Matrix:\")\n",
    "confusionMatrix = confusion_matrix(target_test, predictions)\n",
    "plot_confusion_matrix(svm_model, X_test, target_test) \n",
    "plt.show()\n",
    "print(\"ROC Curve:\")\n",
    "plot_roc_curve(svm_model, X_test, target_test)\n",
    "plt.show()\n",
    "print(\"PR Curve:\")\n",
    "plot_precision_recall_curve(svm_model, X_test, target_test)\n",
    "plt.show()\n",
    "print(classification_report(target_test, predictions))"
   ]
  },
  {
   "cell_type": "code",
   "execution_count": 152,
   "metadata": {},
   "outputs": [
    {
     "data": {
      "text/plain": [
       "0.6681834091704585"
      ]
     },
     "execution_count": 152,
     "metadata": {},
     "output_type": "execute_result"
    }
   ],
   "source": [
    "cal_hm_acc(classification_report(target_test, predictions, output_dict=True))"
   ]
  },
  {
   "cell_type": "markdown",
   "metadata": {},
   "source": [
    "### SVM with Gradient Descent"
   ]
  },
  {
   "cell_type": "code",
   "execution_count": 20,
   "metadata": {},
   "outputs": [
    {
     "name": "stdout",
     "output_type": "stream",
     "text": [
      "Score by fold: [0.63333333 0.64666667 0.73154362 0.72483221 0.69127517 0.65100671\n",
      " 0.66442953 0.70469799 0.69798658 0.67114094]\n",
      "Accuracy: 0.6817 (+/- 0.06)\n"
     ]
    }
   ],
   "source": [
    "sgd_model = SGDClassifier()\n",
    "scores = cross_val_score(sgd_model, X_train, target_train, cv=10)\n",
    "print(\"Score by fold: \" + str(scores))\n",
    "print(\"Accuracy: %0.4f (+/- %0.2f)\" % (scores.mean(), scores.std() * 2))"
   ]
  },
  {
   "cell_type": "code",
   "execution_count": 142,
   "metadata": {},
   "outputs": [
    {
     "name": "stdout",
     "output_type": "stream",
     "text": [
      "Accuracy = 0.6621983914209115\n",
      "Confusion Matrix:\n"
     ]
    },
    {
     "data": {
      "image/png": "[encoded data removed]",
      "text/plain": [
       "<Figure size 432x288 with 2 Axes>"
      ]
     },
     "metadata": {
      "needs_background": "light"
     },
     "output_type": "display_data"
    },
    {
     "name": "stdout",
     "output_type": "stream",
     "text": [
      "ROC Curve:\n"
     ]
    },
    {
     "data": {
      "image/png": "[encoded data removed]",
      "text/plain": [
       "<Figure size 432x288 with 1 Axes>"
      ]
     },
     "metadata": {
      "needs_background": "light"
     },
     "output_type": "display_data"
    },
    {
     "name": "stdout",
     "output_type": "stream",
     "text": [
      "              precision    recall  f1-score   support\n",
      "\n",
      "         neg       0.72      0.69      0.71       219\n",
      "         pos       0.59      0.62      0.60       154\n",
      "\n",
      "    accuracy                           0.66       373\n",
      "   macro avg       0.65      0.66      0.65       373\n",
      "weighted avg       0.67      0.66      0.66       373\n",
      "\n"
     ]
    }
   ],
   "source": [
    "sgd_model.fit(X_train, target_train)\n",
    "predictions = sgd_model.predict(X_test)\n",
    "print(\"Accuracy = \" + str(accuracy_score(target_test, predictions, normalize=True)))\n",
    "#Output the confusion matrix on the test set\n",
    "print(\"Confusion Matrix:\")\n",
    "confusionMatrix = confusion_matrix(target_test, predictions)\n",
    "plot_confusion_matrix(sgd_model, X_test, target_test) \n",
    "plt.show()\n",
    "print(\"ROC Curve:\")\n",
    "plot_roc_curve(sgd_model, X_test, target_test)\n",
    "plt.show()\n",
    "print(classification_report(target_test, predictions))"
   ]
  },
  {
   "cell_type": "code",
   "execution_count": 22,
   "metadata": {},
   "outputs": [
    {
     "data": {
      "text/plain": [
       "0.7167938457720703"
      ]
     },
     "execution_count": 22,
     "metadata": {},
     "output_type": "execute_result"
    }
   ],
   "source": [
    "cal_hm_acc(classification_report(target_test, predictions, output_dict=True))"
   ]
  },
  {
   "cell_type": "markdown",
   "metadata": {},
   "source": [
    "### Logistic Regression"
   ]
  },
  {
   "cell_type": "code",
   "execution_count": 28,
   "metadata": {},
   "outputs": [
    {
     "name": "stdout",
     "output_type": "stream",
     "text": [
      "Train: (1492, 8000) Test: (373, 8000)\n"
     ]
    }
   ],
   "source": [
    "vectorizer = TfidfVectorizer(max_df=0.7, max_features=8000, min_df=5, ngram_range=(1, 2), stop_words=None)\n",
    "#vectorizer = TfidfVectorizer()\n",
    "#vectorizer = TfidfVectorizer(use_idf=False)\n",
    "X_train = vectorizer.fit_transform(instances_train)\n",
    "X_test = vectorizer.transform(instances_test)\n",
    "print(\"Train:\", X_train.shape, \"Test:\", X_test.shape)"
   ]
  },
  {
   "cell_type": "code",
   "execution_count": 29,
   "metadata": {},
   "outputs": [
    {
     "name": "stdout",
     "output_type": "stream",
     "text": [
      "Score by fold: [0.73333333 0.75333333 0.72483221 0.77852349 0.73154362 0.73825503\n",
      " 0.69798658 0.73825503 0.69798658 0.7114094 ]\n",
      "Accuracy: 0.7305 (+/- 0.05)\n"
     ]
    }
   ],
   "source": [
    "log_model = LogisticRegression(solver='liblinear', class_weight='balanced', penalty='l2')\n",
    "scores = cross_val_score(log_model, X_train, target_train, cv=10)\n",
    "print(\"Score by fold: \" + str(scores))\n",
    "print(\"Accuracy: %0.4f (+/- %0.2f)\" % (scores.mean(), scores.std() * 2))"
   ]
  },
  {
   "cell_type": "code",
   "execution_count": 30,
   "metadata": {
    "scrolled": true
   },
   "outputs": [
    {
     "name": "stdout",
     "output_type": "stream",
     "text": [
      "Accuracy = 0.6916890080428955\n",
      "Confusion Matrix:\n"
     ]
    },
    {
     "data": {
      "image/png": "[encoded data removed]",
      "text/plain": [
       "<Figure size 432x288 with 2 Axes>"
      ]
     },
     "metadata": {
      "needs_background": "light"
     },
     "output_type": "display_data"
    },
    {
     "name": "stdout",
     "output_type": "stream",
     "text": [
      "ROC Curve:\n"
     ]
    },
    {
     "data": {
      "image/png": "[encoded data removed]",
      "text/plain": [
       "<Figure size 432x288 with 1 Axes>"
      ]
     },
     "metadata": {
      "needs_background": "light"
     },
     "output_type": "display_data"
    },
    {
     "name": "stdout",
     "output_type": "stream",
     "text": [
      "PR Curve:\n"
     ]
    },
    {
     "data": {
      "image/png": "[encoded data removed]",
      "text/plain": [
       "<Figure size 432x288 with 1 Axes>"
      ]
     },
     "metadata": {
      "needs_background": "light"
     },
     "output_type": "display_data"
    },
    {
     "name": "stdout",
     "output_type": "stream",
     "text": [
      "              precision    recall  f1-score   support\n",
      "\n",
      "         neg       0.75      0.72      0.73       219\n",
      "         pos       0.62      0.66      0.64       154\n",
      "\n",
      "    accuracy                           0.69       373\n",
      "   macro avg       0.68      0.69      0.68       373\n",
      "weighted avg       0.69      0.69      0.69       373\n",
      "\n"
     ]
    }
   ],
   "source": [
    "log_model.fit(X_train, target_train)\n",
    "predictions = log_model.predict(X_test)\n",
    "print(\"Accuracy = \" + str(accuracy_score(target_test, predictions, normalize=True)))\n",
    "#Output the confusion matrix on the test set\n",
    "print(\"Confusion Matrix:\")\n",
    "confusionMatrix = confusion_matrix(target_test, predictions)\n",
    "plot_confusion_matrix(log_model, X_test, target_test) \n",
    "plt.show()\n",
    "print(\"ROC Curve:\")\n",
    "plot_roc_curve(log_model, X_test, target_test)\n",
    "plt.show()\n",
    "print(\"PR Curve:\")\n",
    "plot_precision_recall_curve(log_model, X_test, target_test)\n",
    "plt.show()\n",
    "print(classification_report(target_test, predictions))"
   ]
  },
  {
   "cell_type": "code",
   "execution_count": 31,
   "metadata": {},
   "outputs": [
    {
     "data": {
      "text/plain": [
       "0.6850119878177852"
      ]
     },
     "execution_count": 31,
     "metadata": {},
     "output_type": "execute_result"
    }
   ],
   "source": [
    "cal_hm_acc(classification_report(target_test, predictions, output_dict=True))"
   ]
  },
  {
   "cell_type": "markdown",
   "metadata": {},
   "source": [
    "### Pipeline - Multinomial NB, Bernoulli NB, Complement NB, Logistic Regression, SVM"
   ]
  },
  {
   "cell_type": "code",
   "execution_count": 8,
   "metadata": {},
   "outputs": [],
   "source": [
    "lyrics = np.asarray(df['lyrics'], dtype=\"str\")"
   ]
  },
  {
   "cell_type": "code",
   "execution_count": 9,
   "metadata": {},
   "outputs": [],
   "source": [
    "X_train, X_test, Y_train, Y_test = train_test_split(lyrics, targetLabels, test_size=0.2, random_state=0)"
   ]
  },
  {
   "cell_type": "markdown",
   "metadata": {},
   "source": [
    "### MNB"
   ]
  },
  {
   "cell_type": "code",
   "execution_count": 10,
   "metadata": {},
   "outputs": [
    {
     "data": {
      "text/plain": [
       "Pipeline(steps=[('vectorizer',\n",
       "                 TfidfVectorizer(max_df=0.8, max_features=2000, min_df=7)),\n",
       "                ('model', MultinomialNB())])"
      ]
     },
     "execution_count": 10,
     "metadata": {},
     "output_type": "execute_result"
    }
   ],
   "source": [
    "senti_clf = Pipeline([\n",
    "    ('vectorizer', TfidfVectorizer(max_df=0.8, max_features=2000, min_df=7, ngram_range=(1,1))),\n",
    "    ('model', MultinomialNB()),\n",
    "])\n",
    "\n",
    "senti_clf.fit(X_train, Y_train)"
   ]
  },
  {
   "cell_type": "markdown",
   "metadata": {},
   "source": [
    "### BNB"
   ]
  },
  {
   "cell_type": "code",
   "execution_count": 10,
   "metadata": {},
   "outputs": [
    {
     "data": {
      "text/plain": [
       "Pipeline(steps=[('vectorizer', TfidfVectorizer(max_df=0.5, max_features=5000)),\n",
       "                ('model', BernoulliNB())])"
      ]
     },
     "execution_count": 10,
     "metadata": {},
     "output_type": "execute_result"
    }
   ],
   "source": [
    "senti_clf = Pipeline([\n",
    "    ('vectorizer', TfidfVectorizer(max_df=0.5, max_features=5000)),\n",
    "    ('model', BernoulliNB()),\n",
    "])\n",
    "\n",
    "senti_clf.fit(X_train, Y_train)"
   ]
  },
  {
   "cell_type": "code",
   "execution_count": 14,
   "metadata": {},
   "outputs": [
    {
     "data": {
      "text/plain": [
       "['moodify_models\\\\senti_bnb_pipeline.joblib']"
      ]
     },
     "execution_count": 14,
     "metadata": {},
     "output_type": "execute_result"
    }
   ],
   "source": [
    "joblib.dump(senti_clf, 'moodify_models\\\\senti_bnb_pipeline.joblib')"
   ]
  },
  {
   "cell_type": "code",
   "execution_count": 15,
   "metadata": {},
   "outputs": [],
   "source": [
    "senti_pip = joblib.load('moodify_models\\\\senti_bnb_pipeline.joblib')"
   ]
  },
  {
   "cell_type": "code",
   "execution_count": 18,
   "metadata": {},
   "outputs": [
    {
     "data": {
      "text/plain": [
       "array(['neg'], dtype='<U3')"
      ]
     },
     "execution_count": 18,
     "metadata": {},
     "output_type": "execute_result"
    }
   ],
   "source": [
    "senti_pip.predict([X_test[0]])"
   ]
  },
  {
   "cell_type": "code",
   "execution_count": 19,
   "metadata": {},
   "outputs": [
    {
     "data": {
      "text/plain": [
       "'neg'"
      ]
     },
     "execution_count": 19,
     "metadata": {},
     "output_type": "execute_result"
    }
   ],
   "source": [
    "Y_test[0]"
   ]
  },
  {
   "cell_type": "markdown",
   "metadata": {},
   "source": [
    "### Complement NB"
   ]
  },
  {
   "cell_type": "code",
   "execution_count": 29,
   "metadata": {},
   "outputs": [
    {
     "data": {
      "text/plain": [
       "Pipeline(steps=[('vectorizer',\n",
       "                 TfidfVectorizer(max_df=0.5, max_features=2000, min_df=5,\n",
       "                                 ngram_range=(1, 2))),\n",
       "                ('model', ComplementNB())])"
      ]
     },
     "execution_count": 29,
     "metadata": {},
     "output_type": "execute_result"
    }
   ],
   "source": [
    "senti_clf = Pipeline([\n",
    "    ('vectorizer', TfidfVectorizer(max_df=0.5, max_features=2000, min_df=5, ngram_range=(1, 2))),\n",
    "    ('model', ComplementNB())\n",
    "])\n",
    "\n",
    "senti_clf.fit(X_train, Y_train)"
   ]
  },
  {
   "cell_type": "markdown",
   "metadata": {},
   "source": [
    "### LR"
   ]
  },
  {
   "cell_type": "code",
   "execution_count": 33,
   "metadata": {},
   "outputs": [
    {
     "data": {
      "text/plain": [
       "Pipeline(steps=[('vectorizer',\n",
       "                 TfidfVectorizer(max_df=0.7, max_features=8000, min_df=5,\n",
       "                                 ngram_range=(1, 2))),\n",
       "                ('model',\n",
       "                 LogisticRegression(class_weight='balanced',\n",
       "                                    solver='liblinear'))])"
      ]
     },
     "execution_count": 33,
     "metadata": {},
     "output_type": "execute_result"
    }
   ],
   "source": [
    "senti_clf = Pipeline([\n",
    "    ('vectorizer', TfidfVectorizer(max_df=0.7, max_features=8000, min_df=5,\n",
    "                                 ngram_range=(1, 2))),\n",
    "    ('model', LogisticRegression(class_weight='balanced',\n",
    "                                    solver='liblinear')),\n",
    "])\n",
    "\n",
    "senti_clf.fit(X_train, Y_train)"
   ]
  },
  {
   "cell_type": "markdown",
   "metadata": {},
   "source": [
    "### SVM"
   ]
  },
  {
   "cell_type": "code",
   "execution_count": 37,
   "metadata": {},
   "outputs": [
    {
     "data": {
      "text/plain": [
       "Pipeline(steps=[('vectorizer', TfidfVectorizer(max_df=0.5, max_features=5000)),\n",
       "                ('model', SVC(class_weight='balanced', kernel='linear'))])"
      ]
     },
     "execution_count": 37,
     "metadata": {},
     "output_type": "execute_result"
    }
   ],
   "source": [
    "# GridSearch returned with rbf but linear is better\n",
    "senti_clf = Pipeline([\n",
    "    ('vectorizer', TfidfVectorizer(max_df=0.5, max_features=5000)),\n",
    "    ('model', SVC(kernel='linear', class_weight='balanced')),\n",
    "])\n",
    "\n",
    "senti_clf.fit(X_train, Y_train)"
   ]
  },
  {
   "cell_type": "code",
   "execution_count": 38,
   "metadata": {
    "scrolled": true
   },
   "outputs": [
    {
     "name": "stdout",
     "output_type": "stream",
     "text": [
      "Score by fold: [0.71333333 0.72       0.71812081 0.72483221 0.72483221 0.72483221\n",
      " 0.71812081 0.7114094  0.7114094  0.73154362]\n",
      "Accuracy: 0.7198 (+/- 0.01)\n"
     ]
    }
   ],
   "source": [
    "scores = cross_val_score(senti_clf, X_train, Y_train, cv=10)\n",
    "print(\"Score by fold: \" + str(scores))\n",
    "print(\"Accuracy: %0.4f (+/- %0.2f)\" % (scores.mean(), scores.std() * 2))"
   ]
  },
  {
   "cell_type": "code",
   "execution_count": 39,
   "metadata": {
    "scrolled": false
   },
   "outputs": [
    {
     "name": "stdout",
     "output_type": "stream",
     "text": [
      "Accuracy = 0.6836461126005362\n",
      "Confusion Matrix:\n"
     ]
    },
    {
     "data": {
      "image/png": "[encoded data removed]",
      "text/plain": [
       "<Figure size 432x288 with 2 Axes>"
      ]
     },
     "metadata": {
      "needs_background": "light"
     },
     "output_type": "display_data"
    },
    {
     "name": "stdout",
     "output_type": "stream",
     "text": [
      "ROC Curve:\n"
     ]
    },
    {
     "data": {
      "image/png": "[encoded data removed]",
      "text/plain": [
       "<Figure size 432x288 with 1 Axes>"
      ]
     },
     "metadata": {
      "needs_background": "light"
     },
     "output_type": "display_data"
    },
    {
     "name": "stdout",
     "output_type": "stream",
     "text": [
      "PR Curve:\n"
     ]
    },
    {
     "data": {
      "image/png": "[encoded data removed]",
      "text/plain": [
       "<Figure size 432x288 with 1 Axes>"
      ]
     },
     "metadata": {
      "needs_background": "light"
     },
     "output_type": "display_data"
    },
    {
     "name": "stdout",
     "output_type": "stream",
     "text": [
      "              precision    recall  f1-score   support\n",
      "\n",
      "         neg       0.75      0.68      0.72       219\n",
      "         pos       0.60      0.68      0.64       154\n",
      "\n",
      "    accuracy                           0.68       373\n",
      "   macro avg       0.68      0.68      0.68       373\n",
      "weighted avg       0.69      0.68      0.69       373\n",
      "\n"
     ]
    }
   ],
   "source": [
    "predictions = senti_clf.predict(X_test)\n",
    "print(\"Accuracy = \" + str(accuracy_score(Y_test, predictions, normalize=True)))\n",
    "print(\"Confusion Matrix:\")\n",
    "plot_confusion_matrix(senti_clf, X_test, Y_test) \n",
    "plt.show()\n",
    "print(\"ROC Curve:\")\n",
    "plot_roc_curve(senti_clf, X_test, Y_test)\n",
    "plt.show()\n",
    "print(\"PR Curve:\")\n",
    "plot_precision_recall_curve(senti_clf, X_test, Y_test)\n",
    "plt.show()\n",
    "print(classification_report(Y_test, predictions))"
   ]
  },
  {
   "cell_type": "code",
   "execution_count": 40,
   "metadata": {},
   "outputs": [
    {
     "data": {
      "text/plain": [
       "0.683371298405467"
      ]
     },
     "execution_count": 40,
     "metadata": {},
     "output_type": "execute_result"
    }
   ],
   "source": [
    "report = classification_report(Y_test, predictions, output_dict=True)\n",
    "\n",
    "harmonic_mean_acc = 1/((1/2)*((1/report['neg']['recall']) + (1/report['pos']['recall'])))\n",
    "\n",
    "harmonic_mean_acc"
   ]
  },
  {
   "cell_type": "markdown",
   "metadata": {},
   "source": [
    "### Randomized Search"
   ]
  },
  {
   "cell_type": "code",
   "execution_count": 28,
   "metadata": {},
   "outputs": [],
   "source": [
    "params = {\n",
    "    'vectorizer__max_features': [2000, 5000, 8000, 15000, None],\n",
    "    'vectorizer__ngram_range': [(1,1), (1,2)],\n",
    "    'vectorizer__max_df': [0.5, 0.7, 0.8],\n",
    "    'vectorizer__min_df': [1, 5, 7],\n",
    "    'vectorizer__use_idf': (True, False),\n",
    "    'vectorizer__stop_words': (None, 'english'),\n",
    "    'model__C': [0.001, 0.01, 0.1, 1.0],\n",
    "    'model__kernel': ('linear', 'rbf'),\n",
    "    'model__class_weight': ('balanced', None)\n",
    "}"
   ]
  },
  {
   "cell_type": "code",
   "execution_count": 29,
   "metadata": {},
   "outputs": [],
   "source": [
    "svc_rs = RandomizedSearchCV(senti_clf, param_distributions = params, cv = 10, verbose=1)"
   ]
  },
  {
   "cell_type": "code",
   "execution_count": 30,
   "metadata": {},
   "outputs": [
    {
     "name": "stdout",
     "output_type": "stream",
     "text": [
      "Fitting 10 folds for each of 10 candidates, totalling 100 fits\n"
     ]
    },
    {
     "name": "stderr",
     "output_type": "stream",
     "text": [
      "[Parallel(n_jobs=1)]: Using backend SequentialBackend with 1 concurrent workers.\n",
      "[Parallel(n_jobs=1)]: Done 100 out of 100 | elapsed:  6.7min finished\n"
     ]
    },
    {
     "data": {
      "text/plain": [
       "RandomizedSearchCV(cv=10,\n",
       "                   estimator=Pipeline(steps=[('vectorizer', TfidfVectorizer()),\n",
       "                                             ('model', SVC(kernel='linear'))]),\n",
       "                   param_distributions={'model__C': [0.001, 0.01, 0.1, 1.0],\n",
       "                                        'model__class_weight': ('balanced',\n",
       "                                                                None),\n",
       "                                        'model__kernel': ('linear', 'rbf'),\n",
       "                                        'vectorizer__max_df': [0.5, 0.7, 0.8],\n",
       "                                        'vectorizer__max_features': [2000, 5000,\n",
       "                                                                     8000,\n",
       "                                                                     15000,\n",
       "                                                                     None],\n",
       "                                        'vectorizer__min_df': [1, 5, 7],\n",
       "                                        'vectorizer__ngram_range': [(1, 1),\n",
       "                                                                    (1, 2)],\n",
       "                                        'vectorizer__stop_words': (None,\n",
       "                                                                   'english'),\n",
       "                                        'vectorizer__use_idf': (True, False)},\n",
       "                   verbose=1)"
      ]
     },
     "execution_count": 30,
     "metadata": {},
     "output_type": "execute_result"
    }
   ],
   "source": [
    "svc_rs.fit(X_train, Y_train)"
   ]
  },
  {
   "cell_type": "code",
   "execution_count": 32,
   "metadata": {},
   "outputs": [
    {
     "name": "stdout",
     "output_type": "stream",
     "text": [
      "model__C: 1.0\n",
      "model__class_weight: None\n",
      "model__kernel: 'linear'\n",
      "vectorizer__max_df: 0.7\n",
      "vectorizer__max_features: 15000\n",
      "vectorizer__min_df: 5\n",
      "vectorizer__ngram_range: (1, 1)\n",
      "vectorizer__stop_words: 'english'\n",
      "vectorizer__use_idf: True\n"
     ]
    }
   ],
   "source": [
    "for param in sorted(params.keys()):\n",
    "    print(\"%s: %r\" % (param, svc_rs.best_params_[param]))"
   ]
  },
  {
   "cell_type": "code",
   "execution_count": 33,
   "metadata": {},
   "outputs": [
    {
     "data": {
      "text/plain": [
       "Pipeline(steps=[('vectorizer',\n",
       "                 TfidfVectorizer(max_df=0.7, max_features=15000, min_df=5,\n",
       "                                 stop_words='english')),\n",
       "                ('model', SVC(kernel='linear'))])"
      ]
     },
     "execution_count": 33,
     "metadata": {},
     "output_type": "execute_result"
    }
   ],
   "source": [
    "svc_rs.best_estimator_"
   ]
  },
  {
   "cell_type": "code",
   "execution_count": 35,
   "metadata": {},
   "outputs": [
    {
     "data": {
      "text/plain": [
       "0.6890156599552573"
      ]
     },
     "execution_count": 35,
     "metadata": {},
     "output_type": "execute_result"
    }
   ],
   "source": [
    "svc_rs.best_score_"
   ]
  },
  {
   "cell_type": "markdown",
   "metadata": {},
   "source": [
    "### GridSearch"
   ]
  },
  {
   "cell_type": "code",
   "execution_count": 53,
   "metadata": {},
   "outputs": [],
   "source": [
    "parameters = {\n",
    "    'vectorizer__max_features': [2000, 5000, 8000, 15000, None],\n",
    "    'vectorizer__ngram_range': [(1,1), (1,2)],\n",
    "    'vectorizer__max_df': [0.5, 0.7, 0.8],\n",
    "    'vectorizer__min_df': [1, 5, 7],\n",
    "    'vectorizer__use_idf': (True, False),\n",
    "    'vectorizer__stop_words': (None, 'english'),\n",
    "}"
   ]
  },
  {
   "cell_type": "code",
   "execution_count": 46,
   "metadata": {},
   "outputs": [],
   "source": [
    "parameters = {\n",
    "    'vectorizer__max_features': [2000, 5000, 8000, 15000, None],\n",
    "    'vectorizer__ngram_range': [(1,1), (1,2)],\n",
    "    'vectorizer__max_df': [0.5, 0.7, 0.8],\n",
    "    'vectorizer__min_df': [1, 5, 7],\n",
    "    'vectorizer__use_idf': (True, False),\n",
    "    'vectorizer__stop_words': (None, 'english'),\n",
    "}"
   ]
  },
  {
   "cell_type": "code",
   "execution_count": 57,
   "metadata": {},
   "outputs": [],
   "source": [
    "grid = GridSearchCV(senti_clf, parameters, cv=2, n_jobs=1, verbose=1)"
   ]
  },
  {
   "cell_type": "code",
   "execution_count": 58,
   "metadata": {
    "scrolled": false
   },
   "outputs": [
    {
     "name": "stdout",
     "output_type": "stream",
     "text": [
      "Fitting 2 folds for each of 5760 candidates, totalling 11520 fits\n"
     ]
    },
    {
     "name": "stderr",
     "output_type": "stream",
     "text": [
      "[Parallel(n_jobs=1)]: Using backend SequentialBackend with 1 concurrent workers.\n",
      "[Parallel(n_jobs=1)]: Done 11520 out of 11520 | elapsed: 253.1min finished\n"
     ]
    },
    {
     "data": {
      "text/plain": [
       "GridSearchCV(cv=2,\n",
       "             estimator=Pipeline(steps=[('vectorizer', TfidfVectorizer()),\n",
       "                                       ('model', SVC(kernel='linear'))]),\n",
       "             n_jobs=1,\n",
       "             param_grid={'model__C': [0.001, 0.01, 0.1, 1.0],\n",
       "                         'model__class_weight': ('balanced', None),\n",
       "                         'model__kernel': ('linear', 'rbf'),\n",
       "                         'vectorizer__max_df': [0.5, 0.7, 0.8],\n",
       "                         'vectorizer__max_features': [2000, 5000, 8000, 15000,\n",
       "                                                      None],\n",
       "                         'vectorizer__min_df': [1, 5, 7],\n",
       "                         'vectorizer__ngram_range': [(1, 1), (1, 2)],\n",
       "                         'vectorizer__stop_words': (None, 'english'),\n",
       "                         'vectorizer__use_idf': (True, False)},\n",
       "             verbose=1)"
      ]
     },
     "execution_count": 58,
     "metadata": {},
     "output_type": "execute_result"
    }
   ],
   "source": [
    "grid.fit(X_train, Y_train)"
   ]
  },
  {
   "cell_type": "code",
   "execution_count": 59,
   "metadata": {
    "scrolled": true
   },
   "outputs": [
    {
     "name": "stdout",
     "output_type": "stream",
     "text": [
      "model__C: 1.0\n",
      "model__class_weight: 'balanced'\n",
      "model__kernel: 'rbf'\n",
      "vectorizer__max_df: 0.5\n",
      "vectorizer__max_features: 5000\n",
      "vectorizer__min_df: 1\n",
      "vectorizer__ngram_range: (1, 1)\n",
      "vectorizer__stop_words: None\n",
      "vectorizer__use_idf: True\n"
     ]
    }
   ],
   "source": [
    "for param in sorted(parameters.keys()):\n",
    "    print(\"%s: %r\" % (param, grid.best_params_[param]))"
   ]
  },
  {
   "cell_type": "code",
   "execution_count": 60,
   "metadata": {},
   "outputs": [
    {
     "data": {
      "text/plain": [
       "Pipeline(steps=[('vectorizer', TfidfVectorizer(max_df=0.5, max_features=5000)),\n",
       "                ('model', SVC(class_weight='balanced'))])"
      ]
     },
     "execution_count": 60,
     "metadata": {},
     "output_type": "execute_result"
    }
   ],
   "source": [
    "grid.best_estimator_"
   ]
  },
  {
   "cell_type": "code",
   "execution_count": 61,
   "metadata": {},
   "outputs": [
    {
     "data": {
      "text/plain": [
       "0.7084450402144773"
      ]
     },
     "execution_count": 61,
     "metadata": {},
     "output_type": "execute_result"
    }
   ],
   "source": [
    "grid.best_score_"
   ]
  },
  {
   "cell_type": "code",
   "execution_count": 1,
   "metadata": {},
   "outputs": [],
   "source": [
    "import lyricsgenius as lg\n",
    "CLIENT_ID = '18H6V8QvCrj0kKOefOVWUkkIowkMI84kEv8mK9N01fC_D7ALSIC3PPbbYZoN0vu1'\n",
    "CLIENT_SECRET = '187PZ_Um5c3EOZm4rWV8toxjMlzZ84sZfJKhM_D8b4VAhVzXuI1m9TTX49Jrdq7Ysy5s5htzvpCiOAv1RIqQvw'\n",
    "CLIENT_ACCESS_TOKEN = 'WdcEvFz0MeZOgDNtrRfAmJ0DReEqv8_MdSwTmQBCBCZCizR5Pf1P7dgfnzKdrOGB'\n",
    "\n",
    "genius = lg.Genius(CLIENT_ACCESS_TOKEN)\n",
    "\n",
    "genius.remove_section_headers = True\n",
    "genius.verbose = True\n",
    "genius.retries = 3\n",
    "genius.timeout = 8"
   ]
  },
  {
   "cell_type": "code",
   "execution_count": 21,
   "metadata": {},
   "outputs": [
    {
     "name": "stdout",
     "output_type": "stream",
     "text": [
      "Searching for \"​i don’t want to watch the world end with someone else\" by clinton kane...\n",
      "Done.\n",
      "Empty streets now, where we used to love\\nOur hearts out but now I'm dancin' all alone\\nScared to go out on my own\\nThis calmin' feeling faded into anxious breathin'\\nIn the places we were happy once\\nStuck inside but never home\\n\\nAnd if I lose it all, in the blink of an eye\\nLike a fire burnin' out in the night\\nAnd my hearts stops beatin'\\nBut something's screamin'\\n\\nAnd I, wish we didn't say goodbye\\n'Cause we're just standin' still\\nAnd I don't really know, what tomorrow holds\\nBut I've, I've finally realized\\nIf this is our last goodbye until we're gone\\nWho cares about the wrongs we caused ourselves\\n'Cause I don't want to watch the world end with someone else\\n\\nFallin' deeper, deeper into hopeless thinkin'\\nRemember when you pulled me out\\nWishin' you would come around again\\nWhen the room goes quiet\\nI'm hit with my regret like a riot\\nReminds me what I really want\\nBut have I waited for too long?\\n\\n'Cause if I lose it all, in the blink of an eye\\nLike a fire burnin' out in the night\\nAnd my hearts stops beatin'\\nBut something's screamin'\\n\\nAnd I, I wish we didn't say goodbye\\n'Cause we're just standin' still\\nAnd I don't really know, what tomorrow holds\\nBut I've, I've finally realized\\nIf this is our last goodbye until we're gone\\nWho cares about the wrongs we caused ourselves\\n'Cause I don't want to watch the world end with someone else\\n\\nOh-oh, oh-oh, oh\\nWorld end with someone else\\nOh-oh, oh-oh, oh\\nWorld end with someone else\\nOh-oh, oh-oh, oh\\nWorld end with someone else\\nOh-oh, oh-oh, oh\\nWorld end with someone else\n"
     ]
    },
    {
     "data": {
      "text/plain": [
       "'Empty streets now where we used to love Our hearts out but now I m dancin all alone Scared to go out on my own This calmin feeling faded into anxious breathin In the places we were happy once Stuck inside but never home And if I lose it all in the blink of an eye Like a fire burnin out in the night And my hearts stops beatin But something is screamin And I wish we did not say goodbye because we are just standin still And I do not really know what tomorrow holds But I ve I ve finally realized If this is our last goodbye until we are gone Who cares about the wrongs we caused ourselves because I do not want to watch the world end with someone else Fallin deeper deeper into hopeless thinkin Remember when you pulled me out Wishin you would come around again When the room goes quiet I m hit with my regret like a riot Reminds me what I really want But have I waited for too long? because if I lose it all in the blink of an eye Like a fire burnin out in the night And my hearts stops beatin But something is screamin And I I wish we did not say goodbye because we are just standin still And I do not really know what tomorrow holds But I ve I ve finally realized If this is our last goodbye until we are gone Who cares about the wrongs we caused ourselves because I do not want to watch the world end with someone else Oh oh oh oh oh World end with someone else Oh oh oh oh oh World end with someone else Oh oh oh oh oh World end with someone else Oh oh oh oh oh World end with someone else'"
      ]
     },
     "execution_count": 21,
     "metadata": {},
     "output_type": "execute_result"
    }
   ],
   "source": [
    "song = genius.search_song(title=\"​i don’t want to watch the world end with someone else\", artist=\"clinton kane\")\n",
    "#song = genius.search_song(title=\"Can't Help Myself\", artist=\"Eric Nam\")\n",
    "#song = genius.search_song(title=\"Kung 'Di Rin Lang Ikaw\", artist=\"December Avenue\")\n",
    "#print(song.lyrics)\n",
    "\n",
    "tester_song = song.lyrics\n",
    "tester_song = tester_song.replace(\"\\n\", \"\\\\n\")\n",
    "print(tester_song)\n",
    "clean_lyrics(tester_song)"
   ]
  },
  {
   "cell_type": "code",
   "execution_count": 22,
   "metadata": {},
   "outputs": [
    {
     "data": {
      "text/plain": [
       "array(['neg'], dtype='<U3')"
      ]
     },
     "execution_count": 22,
     "metadata": {},
     "output_type": "execute_result"
    }
   ],
   "source": [
    "test = vectorizer.transform([tester_song])\n",
    "\n",
    "prediction = svm_model.predict(test)\n",
    "\n",
    "prediction"
   ]
  },
  {
   "cell_type": "code",
   "execution_count": null,
   "metadata": {},
   "outputs": [],
   "source": []
  }
 ],
 "metadata": {
  "kernelspec": {
   "display_name": "Python 3",
   "language": "python",
   "name": "python3"
  },
  "language_info": {
   "codemirror_mode": {
    "name": "ipython",
    "version": 3
   },
   "file_extension": ".py",
   "mimetype": "text/x-python",
   "name": "python",
   "nbconvert_exporter": "python",
   "pygments_lexer": "ipython3",
   "version": "3.8.5"
  }
 },
 "nbformat": 4,
 "nbformat_minor": 4
}
