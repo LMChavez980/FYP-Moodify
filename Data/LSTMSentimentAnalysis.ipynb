{
 "cells": [
  {
   "cell_type": "code",
   "execution_count": 1,
   "metadata": {},
   "outputs": [],
   "source": [
    "import pandas as pd\n",
    "import numpy as np\n",
    "from keras import callbacks \n",
    "from nltk.stem import WordNetLemmatizer \n",
    "import re\n",
    "import matplotlib.pyplot as plt\n",
    "from collections import Counter\n",
    "from sklearn.feature_extraction.text import CountVectorizer\n",
    "from sklearn.metrics import classification_report\n",
    "from sklearn.metrics import confusion_matrix, accuracy_score, plot_confusion_matrix, roc_curve, RocCurveDisplay, auc\n",
    "from sklearn.model_selection import train_test_split, KFold, StratifiedKFold\n",
    "from keras.preprocessing.text import Tokenizer\n",
    "from keras.preprocessing.sequence import pad_sequences\n",
    "from keras.models import Sequential\n",
    "from keras.layers import *\n",
    "from keras.utils.np_utils import to_categorical\n",
    "from keras.initializers import Constant\n",
    "from keras.optimizers import Adam\n",
    "from keras import backend\n",
    "from sklearn.feature_extraction import text"
   ]
  },
  {
   "cell_type": "code",
   "execution_count": 2,
   "metadata": {},
   "outputs": [],
   "source": [
    "df = pd.read_csv('MoodyLyrics-1865-Sentiment-Audio.csv', index_col=0, encoding=\"utf-8\")\n",
    "#df"
   ]
  },
  {
   "cell_type": "markdown",
   "metadata": {},
   "source": [
    "### Clean lyrics - remove remaining section headers and punctuations"
   ]
  },
  {
   "cell_type": "code",
   "execution_count": 3,
   "metadata": {},
   "outputs": [],
   "source": [
    "contractions = {\"aight\": \"alright\",\n",
    "\"ain't\": \"am not\",\n",
    "\"amn't\": \"am not\",\n",
    "\"aren't\": \"are not\",\n",
    "\"can't\": \"cannot\",\n",
    "\"'cause\": \"because\",\n",
    "\"could've\": \"could have\",\n",
    "\"couldn't\": \"could not\",\n",
    "\"couldn't've\": \"could not have\",\n",
    "\"daren't\": \"dared not\",\n",
    "\"daresn't\": \"dare not\",\n",
    "\"dasn't\": \"dare not\",\n",
    "\"didn't\":\"did not\",\n",
    "\"doesn't\":\"does not\",\n",
    "\"don't\": \"do not\",\n",
    "\"dunno\": \"do not know\",\n",
    "\"d'ye\": \"do you\",\n",
    "\"e'er\":\"ever\",\n",
    "\"'em\": \"them\",\n",
    "\"everybody's\":\"everybody is\",\n",
    "\"everyone's\": \"everyone is\",\n",
    "\"finna\": \"going to\",\n",
    "\"g'day\": \"good day\",\n",
    "\"gimme\":\"give me\",\n",
    "\"giv'n\": \"given\",\n",
    "\"gonna\": \"going to\",\n",
    "\"gon't\": \"go not\",\n",
    "\"gotta\":\"got to\",\n",
    "\"hadn't\":\"had not\",\n",
    "\"had've\":\"had have\",\n",
    "\"hasn't\": \"has not\",\n",
    "\"haven't\":\"have not\",\n",
    "\"he'd\": \"he would\",\n",
    "\"he'll\": \"he will\", \n",
    "\"he's\": \"he is\",\n",
    "\"here's\": \"here is\",\n",
    "\"he've\":\"he have\",\n",
    "\"how'd\": \"how did\", \n",
    "\"howdy\": \"how do you do\",\n",
    "\"how'll\": \"how will\",\n",
    "\"how're\": \"how are\",\n",
    "\"how's\": \"how is\",\n",
    "\"I'd\": \"I would\",\n",
    "\"I'd've\": \"I would have\",\n",
    "\"I'll\": \"I will\",\n",
    "\"I'm\": \"I am\",\n",
    "\"I'm'a\": \"I am about to\",\n",
    "\"I'm'o\": \"I am going to\",\n",
    "\"innit\": \"is it not\",\n",
    "\"I've\": \"I have\",\n",
    "\"isn't\": \"is not\",\n",
    "\"it'd\": \"it would\",\n",
    "\"it'll\": \"it will\",\n",
    "\"it's\": \"it is\",\n",
    "\"iunno\": \"I don't know\",\n",
    "\"kinda\": \"kind of\",\n",
    "\"let's\": \"let us\",\n",
    "\"ma'am\": \"madam\",\n",
    "\"mayn't\": \"may not\",\n",
    "\"may've\": \"may have\",\n",
    "\"methinks\": \"me thinks\",\n",
    "\"mightn't\": \"might not\",\n",
    "\"might've\": \"might have\",\n",
    "\"mustn't\": \"must not\",\n",
    "\"mustn't've\": \"must not have\",\n",
    "\"must've\": \"must have\",\n",
    "\"needn't\":\"need not\",\n",
    "\"nal\" : \"and all\",\n",
    "\"ne'er\": \"never\",\n",
    "\"o'clock\": \"of the clock\",\n",
    "\"o'er\": \"over\",\n",
    "\"ol'\": \"old\",\n",
    "\"oughtn't\": \"ought not\",\n",
    "\"shan't\": \"shall not\",\n",
    "\"she'd\": \"she would\",\n",
    "\"she'll\": \"she will\",\n",
    "\"she's\": \"she is\",\n",
    "\"should've\": \"should have\",\n",
    "\"shouldn't\" :\"should not\",\n",
    "\"shouldn't've\": \"should not have\",\n",
    "\"somebody's\":\"somebody is\",\n",
    "\"someone's\": \"someone is\",\n",
    "\"something's\": \"something is\",\n",
    "\"so're\":\"so are\",\n",
    "\"that'll\":\"that will\",\n",
    "\"that're\": \"that are\",\n",
    "\"that's\": \"that is\",\n",
    "\"that'd\": \"that would\",\n",
    "\"there'd\": \"there would\",\n",
    "\"there'll\":\"there will\",\n",
    "\"there're\": \"there are\",\n",
    "\"there's\": \"there has\",\n",
    "\"these're\": \"these are\",\n",
    "\"these've\": \"these have\",\n",
    "\"they'd\": \"they would\",\n",
    "\"they'll\": \"they will\",\n",
    "\"they're\": \"they are\",\n",
    "\"they've\": \"they have\",\n",
    "\"this's\": \"this is\",\n",
    "\"those're\": \"those are\",\n",
    "\"those've\": \"those have\",\n",
    "\"'tis\": \"it is\",\n",
    "\"to've\": \"to have\",\n",
    "\"'twas\": \"it was\",\n",
    "\"wanna\": \"want to\",\n",
    "\"wasn't\": \"was not\",\n",
    "\"we'd\": \"we would\",\n",
    "\"we'd've\": \"we would have\",\n",
    "\"we'll\": \"we will\",\n",
    "\"we're\": \"we are\",\n",
    "\"we've\": \"we have\", \n",
    "\"weren't\": \"were not\", \n",
    "\"what'd\": \"what did\",\n",
    "\"what'll\": \"what will\",\n",
    "\"what're\": \"what are\",\n",
    "\"what's\": \"what is\",\n",
    "\"what've\": \"what have\",\n",
    "\"when's\": \"when is\",\n",
    "\"where'd\": \"where did\",\n",
    "\"where'll\": \"where will\",\n",
    "\"where're\": \"where are\",\n",
    "\"where's\": \"where is\",\n",
    "\"where've\": \"where have\",\n",
    "\"which'd\": \"which would\",\n",
    "\"which'll\": \"which will\",\n",
    "\"which're\": \"which are\",\n",
    "\"which's\": \"which is\",\n",
    "\"which've\": \"which have\",\n",
    "\"who'd\": \"who would\",\n",
    "\"who'd've\": \"who would have\",\n",
    "\"who'll\": \"who will\",\n",
    "\"who're\": \"who are\",\n",
    "\"who's\": \"who is\",\n",
    "\"who've\": \"who have\",\n",
    "\"why'd\": \"why did\",\n",
    "\"why're\": \"why are\",\n",
    "\"why's\": \"why is\",\n",
    "\"willn't\": \"will not\",\n",
    "\"won't\": \"will not\",\n",
    "\"wonnot\": \"will not\",\n",
    "\"would've\": \"would have\",\n",
    "\"wouldn't\": \"would not\",\n",
    "\"wouldn't've\": \"would not have\",\n",
    "\"y'all\": \"you all\",\n",
    "\"y'all'd've\": \"you all would have\",\n",
    "\"y'all'd'n've\": \"you all would not have\",\n",
    "\"y'all're\": \"you all are\",\n",
    "\"y'at\": \"you at\",\n",
    "\"you'd\": \"you would\",\n",
    "\"you'll\": \"you will\",\n",
    "\"you're\": \"you are\",\n",
    "\"you've\": \"you have\"\n",
    "               }"
   ]
  },
  {
   "cell_type": "code",
   "execution_count": 4,
   "metadata": {},
   "outputs": [
    {
     "data": {
      "text/plain": [
       "index\n",
       "ML1    in the past there were arguments for and again...\n",
       "ML2    baby give me a give me a a give me a give me a...\n",
       "ML3    black theatre of love violet dancers cast thei...\n",
       "ML4    would you like to swing on a star carry moonbe...\n",
       "ML5    heads up! heads up! here is another one! and a...\n",
       "Name: lyrics, dtype: object"
      ]
     },
     "execution_count": 4,
     "metadata": {},
     "output_type": "execute_result"
    }
   ],
   "source": [
    "def clean_lyrics(lyrics):\n",
    "    # Replace next line characters with spaces\n",
    "    lyrics = lyrics.replace(\"\\\\n\", \" \")\n",
    "    lyrics = lyrics.replace(\"’\", \"'\")\n",
    "    #print(\"Changed next line to space:\\n\",lyrics, \"\\n\")\n",
    "    # Remove section headers in brackets - will include adlibs and background vocals\n",
    "    lyrics = re.sub(\"[\\(\\[].*?[\\)\\]]\", \"\", lyrics)\n",
    "    #print(\"Removed section headers in brackets:\\n\", lyrics, \"\\n\")\n",
    "    # Remove section headers and terms not in brackets\n",
    "    # (1) repeat x2\n",
    "    # (2) repeat 2x\n",
    "    # (3) repeat 2\n",
    "    headers = [\"Verse\", \"Chorus\", \"Repeat\", \"Solo\", \"Bridge\", \"Interlude\", \"Instrumental\"]\n",
    "    for header in headers:\n",
    "        lyrics = re.sub(r'(?:\\b'+header+r'\\b\\s\\dx|\\b'+header+r'\\b\\sx\\d|\\b'+header+r'\\b\\s\\d|\\b'+header+r'\\b\\s\\d\\:)', \"\",\n",
    "                        lyrics, flags=re.IGNORECASE)\n",
    "        lyrics = re.sub(r'\\s+?(?:\\b'+header+r'\\b)\\s*?', \"\", lyrics)\n",
    "    \n",
    "    # Expand contractions\n",
    "    word_list = lyrics.split()\n",
    "    for i in range(0, len(word_list)):\n",
    "        word = word_list[i].lower()\n",
    "        if word in contractions.keys():\n",
    "            word_list[i] = contractions[word]\n",
    "            \n",
    "    lyrics = ' '.join(word_list)\n",
    "    \n",
    "    # Remove remaining numbers\n",
    "    lyrics = re.sub(r'\\d+', \" \", lyrics)\n",
    "    \n",
    "    # Remove punctuations\n",
    "    punctuations = '''-;:'\"\\,<>.../@#$%^&*_~'''\n",
    "    \n",
    "    for punc in punctuations:\n",
    "        lyrics = lyrics.replace(punc, \" \")\n",
    "    \n",
    "    # Remove single letter words other than i and a\n",
    "    # No lemmatizer for LSTM\n",
    "    lem_lyrics = []\n",
    "    list_lyrics = lyrics.split()\n",
    "    for i in range(len(list_lyrics)):\n",
    "        word = list_lyrics[i].lower()\n",
    "        if not (len(word) == 1 and word not in ['i', 'a']):\n",
    "            lem_lyrics.append(word) \n",
    "            \n",
    "    # Remove any double spaces\n",
    "    lyrics = ' '.join(lem_lyrics)\n",
    "    \n",
    "    return lyrics.lower()\n",
    "\n",
    "df['lyrics'] = df['lyrics'].apply(clean_lyrics)\n",
    "\n",
    "df['lyrics'].head(5)"
   ]
  },
  {
   "cell_type": "code",
   "execution_count": 5,
   "metadata": {},
   "outputs": [],
   "source": [
    "def getLen(lyrics):\n",
    "    return len(lyrics.split(' '))\n",
    "\n",
    "#getLen(df['lyrics']['ML2'])"
   ]
  },
  {
   "cell_type": "code",
   "execution_count": 6,
   "metadata": {
    "scrolled": true
   },
   "outputs": [
    {
     "name": "stdout",
     "output_type": "stream",
     "text": [
      "Mean length: 250.71152815013406\n",
      "Max length: 1129\n",
      "Standard Dev. length: 150.55421008003879\n",
      "3rd Quantile length: 311.0\n"
     ]
    }
   ],
   "source": [
    "df['length'] = df['lyrics'].apply(getLen)\n",
    "\n",
    "print(\"Mean length:\", df.length.mean())\n",
    "print(\"Max length:\", df.length.max())\n",
    "print(\"Standard Dev. length:\", df.length.std())\n",
    "print(\"3rd Quantile length:\", df.length.quantile(0.75))"
   ]
  },
  {
   "cell_type": "code",
   "execution_count": 7,
   "metadata": {
    "scrolled": false
   },
   "outputs": [
    {
     "data": {
      "image/png": "[encoded data removed]",
      "text/plain": [
       "<Figure size 432x288 with 1 Axes>"
      ]
     },
     "metadata": {
      "needs_background": "light"
     },
     "output_type": "display_data"
    }
   ],
   "source": [
    "plt.hist(df['length'], bins=20, edgecolor='orange')\n",
    "plt.show()"
   ]
  },
  {
   "cell_type": "code",
   "execution_count": 8,
   "metadata": {},
   "outputs": [
    {
     "name": "stdout",
     "output_type": "stream",
     "text": [
      "17301\n"
     ]
    }
   ],
   "source": [
    "results = Counter()\n",
    "df['lyrics'].str.lower().str.split().apply(results.update)\n",
    "print(len(results))"
   ]
  },
  {
   "cell_type": "code",
   "execution_count": 9,
   "metadata": {},
   "outputs": [
    {
     "data": {
      "text/plain": [
       "(1865, 2)"
      ]
     },
     "execution_count": 9,
     "metadata": {},
     "output_type": "execute_result"
    }
   ],
   "source": [
    "targets = pd.get_dummies(df['lyrics sentiment']).values\n",
    "#targets = np.array(list(map(lambda x: 1 if x==\"pos\" else 0, df['lyrics sentiment'])))\n",
    "targets.shape"
   ]
  },
  {
   "cell_type": "code",
   "execution_count": 10,
   "metadata": {
    "scrolled": false
   },
   "outputs": [
    {
     "name": "stdout",
     "output_type": "stream",
     "text": [
      "Train set: (1492,) Test set: (373,)\n"
     ]
    }
   ],
   "source": [
    "lyrics = np.asarray(df['lyrics'], dtype=\"str\")\n",
    "\n",
    "instances_train, instances_test, target_train, target_test = train_test_split(lyrics, targets, test_size=0.2, random_state=0)\n",
    "\n",
    "print(\"Train set:\", instances_train.shape, \"Test set:\", instances_test.shape)"
   ]
  },
  {
   "cell_type": "code",
   "execution_count": 14,
   "metadata": {},
   "outputs": [],
   "source": [
    "sequence_length = 400 # 3rd-Quantile\n",
    "max_features = 20000 # Words accounted for\n",
    "\n",
    "tokenizer = Tokenizer(num_words=max_features, split=' ', oov_token='<OOV>', filters=' ')\n",
    "tokenizer.fit_on_texts(instances_train)\n",
    "\n",
    "data = tokenizer.texts_to_sequences(instances_train)\n",
    "\n",
    "data = pad_sequences(data, sequence_length)"
   ]
  },
  {
   "cell_type": "code",
   "execution_count": 15,
   "metadata": {},
   "outputs": [
    {
     "name": "stdout",
     "output_type": "stream",
     "text": [
      "Word Vectors: 1193515\n"
     ]
    }
   ],
   "source": [
    "embeddings = {}\n",
    "\n",
    "embed_file = open('./Glove/glove.twitter.27B.50d.txt', 'r', encoding='utf-8')\n",
    "for line in embed_file:\n",
    "    values = line.split()\n",
    "    word = values[0]\n",
    "    coefs = np.asarray(values[1:], dtype='float32')\n",
    "    embeddings[word] = coefs\n",
    "embed_file.close()\n",
    "\n",
    "print(\"Word Vectors:\", len(embeddings))"
   ]
  },
  {
   "cell_type": "code",
   "execution_count": 16,
   "metadata": {},
   "outputs": [
    {
     "name": "stdout",
     "output_type": "stream",
     "text": [
      "Unique tokens: 15292\n"
     ]
    }
   ],
   "source": [
    "vocab_size = tokenizer.word_index\n",
    "print(\"Unique tokens:\", len(vocab_size))"
   ]
  },
  {
   "cell_type": "code",
   "execution_count": 18,
   "metadata": {
    "scrolled": true
   },
   "outputs": [
    {
     "name": "stdout",
     "output_type": "stream",
     "text": [
      "15293\n"
     ]
    }
   ],
   "source": [
    "num_words = len(vocab_size) + 1\n",
    "print(num_words)\n",
    "\n",
    "embedding_dim = 50\n",
    "\n",
    "embedding_matrix = np.zeros((num_words, embedding_dim))\n",
    "\n",
    "for word, i in tokenizer.word_index.items():\n",
    "    embedding_vector = embeddings.get(word)\n",
    "    if embedding_vector is not None:\n",
    "        embedding_matrix[i] = embedding_vector"
   ]
  },
  {
   "cell_type": "code",
   "execution_count": 20,
   "metadata": {
    "scrolled": false
   },
   "outputs": [
    {
     "name": "stdout",
     "output_type": "stream",
     "text": [
      "Model: \"sequential_1\"\n",
      "_________________________________________________________________\n",
      "Layer (type)                 Output Shape              Param #   \n",
      "=================================================================\n",
      "embedding_1 (Embedding)      (None, 400, 50)           764650    \n",
      "_________________________________________________________________\n",
      "spatial_dropout1d_1 (Spatial (None, 400, 50)           0         \n",
      "_________________________________________________________________\n",
      "bidirectional_2 (Bidirection (None, 400, 50)           15200     \n",
      "_________________________________________________________________\n",
      "bidirectional_3 (Bidirection (None, 50)                15200     \n",
      "_________________________________________________________________\n",
      "dense_1 (Dense)              (None, 2)                 102       \n",
      "=================================================================\n",
      "Total params: 795,152\n",
      "Trainable params: 30,502\n",
      "Non-trainable params: 764,650\n",
      "_________________________________________________________________\n",
      "None\n"
     ]
    }
   ],
   "source": [
    "model = Sequential()\n",
    "model.add(Embedding(num_words, \n",
    "                    embedding_dim, \n",
    "                    embeddings_initializer=Constant(embedding_matrix), \n",
    "                    input_length=sequence_length, \n",
    "                    trainable=False))\n",
    "model.add(SpatialDropout1D(0.25))\n",
    "model.add(Bidirectional(LSTM(25, return_sequences=True)))\n",
    "#model.add(Bidirectional(LSTM(25, dropout=0.5)))\n",
    "model.add(Bidirectional(LSTM(25, dropout=0.5, recurrent_dropout=0.5)))\n",
    "#model.add(LSTM(100))\n",
    "#model.add(LSTM(100, dropout=0.5, recurrent_dropout=0.5))\n",
    "model.add(Dense(2, activation='softmax'))\n",
    "#model.add(Dense(1, activation='sigmoid'))\n",
    "adam = Adam(learning_rate=0.001)\n",
    "model.compile(loss = 'categorical_crossentropy', optimizer=adam, metrics = ['accuracy'])\n",
    "#model.compile(loss = 'binary_crossentropy', optimizer=adam, metrics = ['accuracy'])\n",
    "print(model.summary())\n",
    "          "
   ]
  },
  {
   "cell_type": "code",
   "execution_count": 76,
   "metadata": {
    "scrolled": true
   },
   "outputs": [
    {
     "name": "stdout",
     "output_type": "stream",
     "text": [
      "Epoch 1/15\n",
      "19/19 [==============================] - 15s 622ms/step - loss: 0.7014 - accuracy: 0.5381 - val_loss: 0.6403 - val_accuracy: 0.6555\n",
      "Epoch 2/15\n",
      "19/19 [==============================] - 11s 570ms/step - loss: 0.6277 - accuracy: 0.6459 - val_loss: 0.6368 - val_accuracy: 0.6355\n",
      "Epoch 3/15\n",
      "19/19 [==============================] - 11s 567ms/step - loss: 0.5897 - accuracy: 0.6607 - val_loss: 0.6167 - val_accuracy: 0.6555\n",
      "Epoch 4/15\n",
      "19/19 [==============================] - 10s 536ms/step - loss: 0.5623 - accuracy: 0.7027 - val_loss: 0.6017 - val_accuracy: 0.6957\n",
      "Epoch 5/15\n",
      "19/19 [==============================] - 14s 750ms/step - loss: 0.5009 - accuracy: 0.7628 - val_loss: 0.6070 - val_accuracy: 0.6522\n",
      "Epoch 6/15\n",
      "19/19 [==============================] - 12s 636ms/step - loss: 0.5079 - accuracy: 0.7543 - val_loss: 0.6194 - val_accuracy: 0.6589\n",
      "Epoch 7/15\n",
      "19/19 [==============================] - 12s 607ms/step - loss: 0.4871 - accuracy: 0.7737 - val_loss: 0.6006 - val_accuracy: 0.6923\n",
      "Epoch 8/15\n",
      "19/19 [==============================] - 12s 644ms/step - loss: 0.4854 - accuracy: 0.7448 - val_loss: 0.6730 - val_accuracy: 0.6856\n",
      "Epoch 9/15\n",
      "19/19 [==============================] - 11s 555ms/step - loss: 0.4241 - accuracy: 0.8004 - val_loss: 0.5984 - val_accuracy: 0.6990\n",
      "Epoch 10/15\n",
      "19/19 [==============================] - 10s 535ms/step - loss: 0.4216 - accuracy: 0.8026 - val_loss: 0.7341 - val_accuracy: 0.6321\n",
      "Epoch 11/15\n",
      "19/19 [==============================] - 10s 542ms/step - loss: 0.4270 - accuracy: 0.8207 - val_loss: 0.6434 - val_accuracy: 0.6689\n",
      "Epoch 12/15\n",
      "19/19 [==============================] - 10s 536ms/step - loss: 0.4154 - accuracy: 0.8111 - val_loss: 0.6208 - val_accuracy: 0.6555\n",
      "Epoch 13/15\n",
      "19/19 [==============================] - 10s 534ms/step - loss: 0.3774 - accuracy: 0.8357 - val_loss: 0.6569 - val_accuracy: 0.6990\n"
     ]
    }
   ],
   "source": [
    "batch_size = 64\n",
    "\n",
    "earlystopping = callbacks.EarlyStopping(monitor =\"val_loss\",  \n",
    "                                        mode =\"min\", patience = 4,  \n",
    "                                        restore_best_weights = True)\n",
    "\n",
    "analyser = model.fit(data, target_train, epochs=9, batch_size=batch_size, verbose=1, validation_split=0.2, callbacks=[earlystopping])"
   ]
  },
  {
   "cell_type": "code",
   "execution_count": 77,
   "metadata": {
    "scrolled": true
   },
   "outputs": [
    {
     "name": "stdout",
     "output_type": "stream",
     "text": [
      "[0.6402557492256165, 0.6367627382278442, 0.6166613698005676, 0.6016574501991272, 0.6070055961608887, 0.6194083094596863, 0.6005815267562866, 0.673003077507019, 0.59841388463974, 0.7340521812438965, 0.6434102654457092, 0.6207807064056396, 0.6569307446479797]\n",
      "[0.6555184125900269, 0.6354514956474304, 0.6555184125900269, 0.695652186870575, 0.6521739363670349, 0.6588628888130188, 0.692307710647583, 0.6856187582015991, 0.6989966630935669, 0.6321070194244385, 0.6688963174819946, 0.6555184125900269, 0.6989966630935669]\n"
     ]
    },
    {
     "data": {
      "image/png": "[encoded data removed]",
      "text/plain": [
       "<Figure size 432x288 with 1 Axes>"
      ]
     },
     "metadata": {
      "needs_background": "light"
     },
     "output_type": "display_data"
    },
    {
     "data": {
      "image/png": "[encoded data removed]",
      "text/plain": [
       "<Figure size 432x288 with 1 Axes>"
      ]
     },
     "metadata": {
      "needs_background": "light"
     },
     "output_type": "display_data"
    }
   ],
   "source": [
    "print(analyser.history['val_loss'])\n",
    "print(analyser.history['val_accuracy'])\n",
    "\n",
    "plt.plot(analyser.history['accuracy'])\n",
    "plt.plot(analyser.history['val_accuracy'])\n",
    "plt.ylabel('accuracy')\n",
    "plt.xlabel('epoch')\n",
    "plt.legend(['train', 'validation'], loc='upper left')\n",
    "plt.show()\n",
    "\n",
    "plt.plot(analyser.history['loss'])\n",
    "plt.plot(analyser.history['val_loss'])\n",
    "plt.title('model loss')\n",
    "plt.ylabel('loss')\n",
    "plt.xlabel('epoch')\n",
    "plt.legend(['train', 'validation'], loc='upper left')\n",
    "plt.show()"
   ]
  },
  {
   "cell_type": "code",
   "execution_count": 78,
   "metadata": {},
   "outputs": [],
   "source": [
    "test_data = tokenizer.texts_to_sequences(instances_test)\n",
    "\n",
    "test_data = pad_sequences(test_data, sequence_length)"
   ]
  },
  {
   "cell_type": "code",
   "execution_count": 79,
   "metadata": {},
   "outputs": [
    {
     "name": "stdout",
     "output_type": "stream",
     "text": [
      "6/6 [==============================] - 1s 140ms/step - loss: 0.6196 - accuracy: 0.6676\n",
      "Test Loss: 0.6196109652519226\n",
      "Test Accuracy 0.667560338973999\n"
     ]
    }
   ],
   "source": [
    "score = model.evaluate(test_data, target_test, verbose=1, batch_size=64)\n",
    "print(\"Test Loss:\", score[0])\n",
    "print(\"Test Accuracy\", score[1])"
   ]
  },
  {
   "cell_type": "code",
   "execution_count": 80,
   "metadata": {},
   "outputs": [],
   "source": [
    "predictions = model.predict(test_data, batch_size=64) # Hold out test"
   ]
  },
  {
   "cell_type": "code",
   "execution_count": 81,
   "metadata": {},
   "outputs": [],
   "source": [
    "predictions_encoded = list(np.where(np.array(predictions) > 0.5, 1, 0 )) # Convert to 0 and 1s - 2D array"
   ]
  },
  {
   "cell_type": "code",
   "execution_count": 82,
   "metadata": {},
   "outputs": [],
   "source": [
    "def reverse_encode(encoded):\n",
    "    labelled = []\n",
    "    for row in encoded:\n",
    "        if row[0] == 1:\n",
    "            labelled.append('neg')\n",
    "        elif row[1] == 1:\n",
    "            labelled.append('pos')\n",
    "    \n",
    "    return labelled"
   ]
  },
  {
   "cell_type": "code",
   "execution_count": 83,
   "metadata": {},
   "outputs": [],
   "source": [
    "label_predictions = reverse_encode(predictions_encoded) # Convert to labels in 1D list\n",
    "label_targets = reverse_encode(target_test) # Convert targets to labels in 1D list\n",
    "\n",
    "# Convert 1D label list to 1D encoded array\n",
    "oned_predictions = np.array(list(map(lambda x: 1 if x==\"pos\" else 0, label_predictions))) \n",
    "# Convert 1D label target list to 1D encoded array\n",
    "oned_targets = np.array(list(map(lambda x: 1 if x==\"pos\" else 0, label_targets)))"
   ]
  },
  {
   "cell_type": "code",
   "execution_count": 84,
   "metadata": {
    "scrolled": true
   },
   "outputs": [
    {
     "name": "stdout",
     "output_type": "stream",
     "text": [
      "              precision    recall  f1-score   support\n",
      "\n",
      "         neg       0.70      0.77      0.73       219\n",
      "         pos       0.62      0.52      0.56       154\n",
      "\n",
      "    accuracy                           0.67       373\n",
      "   macro avg       0.66      0.65      0.65       373\n",
      "weighted avg       0.66      0.67      0.66       373\n",
      "\n"
     ]
    }
   ],
   "source": [
    "print(classification_report(label_targets, label_predictions))"
   ]
  },
  {
   "cell_type": "code",
   "execution_count": 85,
   "metadata": {},
   "outputs": [
    {
     "name": "stdout",
     "output_type": "stream",
     "text": [
      "[[169  50]\n",
      " [ 74  80]]\n"
     ]
    },
    {
     "data": {
      "image/png": "[encoded data removed]",
      "text/plain": [
       "<Figure size 288x288 with 2 Axes>"
      ]
     },
     "metadata": {
      "needs_background": "light"
     },
     "output_type": "display_data"
    }
   ],
   "source": [
    "confusionMatrix = confusion_matrix(label_targets, label_predictions)\n",
    "print(confusionMatrix)\n",
    "plt.matshow(confusionMatrix)\n",
    "plt.title('Confusion matrix')\n",
    "plt.colorbar()\n",
    "plt.ylabel('True label')\n",
    "plt.xlabel('Predicted label')\n",
    "plt.show()"
   ]
  },
  {
   "cell_type": "code",
   "execution_count": null,
   "metadata": {},
   "outputs": [],
   "source": [
    "report = classification_report(label_targets, label_predictions, output_dict=True)\n",
    "\n",
    "harmonic_mean_acc = 1/((1/2)*((1/report['neg']['recall']) + (1/report['pos']['recall'])))\n",
    "\n",
    "harmonic_mean_acc"
   ]
  },
  {
   "cell_type": "code",
   "execution_count": 122,
   "metadata": {},
   "outputs": [],
   "source": [
    "model.save(\"keras_models\\mdl_bilstm50D_drp.h5\")"
   ]
  },
  {
   "cell_type": "code",
   "execution_count": 35,
   "metadata": {},
   "outputs": [],
   "source": [
    "from tensorflow import keras"
   ]
  },
  {
   "cell_type": "code",
   "execution_count": 36,
   "metadata": {},
   "outputs": [],
   "source": [
    "loaded_model = keras.models.load_model('keras_models\\mdl_bilistm_rdrp.h5')"
   ]
  },
  {
   "cell_type": "code",
   "execution_count": 37,
   "metadata": {},
   "outputs": [
    {
     "name": "stdout",
     "output_type": "stream",
     "text": [
      "6/6 [==============================] - 3s 253ms/step - loss: 0.5952 - accuracy: 0.6622\n",
      "Test Loss: 0.5952327847480774\n",
      "Test Accuracy 0.6621983647346497\n"
     ]
    }
   ],
   "source": [
    "score = loaded_model.evaluate(test_data, target_test, verbose=1, batch_size=64)\n",
    "print(\"Test Loss:\", score[0])\n",
    "print(\"Test Accuracy\", score[1])"
   ]
  },
  {
   "cell_type": "code",
   "execution_count": 28,
   "metadata": {},
   "outputs": [],
   "source": [
    "fpr, tpr, thresholds = roc_curve(oned_targets, oned_predictions)"
   ]
  },
  {
   "cell_type": "code",
   "execution_count": 29,
   "metadata": {},
   "outputs": [],
   "source": [
    "auc_score = auc(fpr, tpr)"
   ]
  },
  {
   "cell_type": "code",
   "execution_count": 30,
   "metadata": {},
   "outputs": [
    {
     "data": {
      "image/png": "[encoded data removed]",
      "text/plain": [
       "<Figure size 432x288 with 1 Axes>"
      ]
     },
     "metadata": {
      "needs_background": "light"
     },
     "output_type": "display_data"
    }
   ],
   "source": [
    "plt.figure(1)\n",
    "plt.plot([0, 1], [0, 1], 'k--')\n",
    "plt.plot(fpr, tpr, label='LSTM (auc = {:.2f})'.format(auc_score))\n",
    "plt.xlabel('False positive rate')\n",
    "plt.ylabel('True positive rate')\n",
    "plt.title('ROC curve')\n",
    "plt.legend(loc='best')\n",
    "plt.show()"
   ]
  },
  {
   "cell_type": "markdown",
   "metadata": {},
   "source": [
    "### K-Fold Cross Validation"
   ]
  },
  {
   "cell_type": "code",
   "execution_count": 123,
   "metadata": {},
   "outputs": [],
   "source": [
    "def get_model():\n",
    "    model = Sequential()\n",
    "    model.add(Embedding(num_words, \n",
    "                            embedding_dim, \n",
    "                            embeddings_initializer=Constant(embedding_matrix), \n",
    "                            input_length=sequence_length, \n",
    "                            trainable=False))\n",
    "    model.add(SpatialDropout1D(0.25))\n",
    "    model.add(Bidirectional(LSTM(25, return_sequences=True)))\n",
    "    model.add(Bidirectional(LSTM(25, dropout=0.5)))\n",
    "    #model.add(Bidirectional(LSTM(25, dropout=0.5, recurrent_dropout=0.5)))\n",
    "    #model.add(LSTM(100, dropout=0.5, recurrent_dropout=0.5))\n",
    "    #model.add(LSTM(100, dropout=0.5))\n",
    "    model.add(Dense(2, activation='softmax'))\n",
    "    adam = Adam(learning_rate=0.001)\n",
    "    model.compile(loss = 'categorical_crossentropy', optimizer=adam, metrics = ['accuracy'])\n",
    "    \n",
    "    return model"
   ]
  },
  {
   "cell_type": "code",
   "execution_count": 124,
   "metadata": {
    "scrolled": false
   },
   "outputs": [
    {
     "name": "stdout",
     "output_type": "stream",
     "text": [
      "Fold-1\n",
      "Epoch 1/9\n",
      "21/21 [==============================] - 28s 822ms/step - loss: 0.6818 - accuracy: 0.5833 - val_loss: 0.6509 - val_accuracy: 0.6267\n",
      "Epoch 2/9\n",
      "21/21 [==============================] - 15s 702ms/step - loss: 0.6584 - accuracy: 0.6108 - val_loss: 0.6315 - val_accuracy: 0.6733\n",
      "Epoch 3/9\n",
      "21/21 [==============================] - 16s 748ms/step - loss: 0.6461 - accuracy: 0.6327 - val_loss: 0.6251 - val_accuracy: 0.6800\n",
      "Epoch 4/9\n",
      "21/21 [==============================] - 17s 802ms/step - loss: 0.6545 - accuracy: 0.5993 - val_loss: 0.6297 - val_accuracy: 0.6600\n",
      "Epoch 5/9\n",
      "21/21 [==============================] - 16s 755ms/step - loss: 0.6227 - accuracy: 0.6419 - val_loss: 0.6212 - val_accuracy: 0.6467\n",
      "Epoch 6/9\n",
      "21/21 [==============================] - 15s 737ms/step - loss: 0.6295 - accuracy: 0.6344 - val_loss: 0.6194 - val_accuracy: 0.6933\n",
      "Epoch 7/9\n",
      "21/21 [==============================] - 16s 749ms/step - loss: 0.6132 - accuracy: 0.6657 - val_loss: 0.6177 - val_accuracy: 0.6733\n",
      "Epoch 8/9\n",
      "21/21 [==============================] - 16s 751ms/step - loss: 0.5834 - accuracy: 0.6904 - val_loss: 0.6055 - val_accuracy: 0.6867\n",
      "Epoch 9/9\n",
      "21/21 [==============================] - 15s 715ms/step - loss: 0.6063 - accuracy: 0.6563 - val_loss: 0.6084 - val_accuracy: 0.6400\n",
      "Fold-2\n",
      "Epoch 1/9\n",
      "21/21 [==============================] - 36s 924ms/step - loss: 0.6928 - accuracy: 0.5228 - val_loss: 0.6736 - val_accuracy: 0.5867\n",
      "Epoch 2/9\n",
      "21/21 [==============================] - 15s 709ms/step - loss: 0.6737 - accuracy: 0.5818 - val_loss: 0.6579 - val_accuracy: 0.6133\n",
      "Epoch 3/9\n",
      "21/21 [==============================] - 14s 645ms/step - loss: 0.6689 - accuracy: 0.6039 - val_loss: 0.6374 - val_accuracy: 0.6200\n",
      "Epoch 4/9\n",
      "21/21 [==============================] - 13s 616ms/step - loss: 0.6443 - accuracy: 0.6381 - val_loss: 0.6134 - val_accuracy: 0.6467\n",
      "Epoch 5/9\n",
      "21/21 [==============================] - 13s 619ms/step - loss: 0.6411 - accuracy: 0.6117 - val_loss: 0.6315 - val_accuracy: 0.6133\n",
      "Epoch 6/9\n",
      "21/21 [==============================] - 13s 635ms/step - loss: 0.6111 - accuracy: 0.6602 - val_loss: 0.6205 - val_accuracy: 0.6333\n",
      "Epoch 7/9\n",
      "21/21 [==============================] - 13s 622ms/step - loss: 0.6127 - accuracy: 0.6515 - val_loss: 0.6175 - val_accuracy: 0.6467\n",
      "Epoch 8/9\n",
      "21/21 [==============================] - 13s 619ms/step - loss: 0.5899 - accuracy: 0.6874 - val_loss: 0.6145 - val_accuracy: 0.6800\n",
      "Fold-3\n",
      "Epoch 1/9\n",
      "21/21 [==============================] - 25s 724ms/step - loss: 0.7100 - accuracy: 0.5012 - val_loss: 0.6879 - val_accuracy: 0.5235\n",
      "Epoch 2/9\n",
      "21/21 [==============================] - 13s 607ms/step - loss: 0.6743 - accuracy: 0.5932 - val_loss: 0.6722 - val_accuracy: 0.6443\n",
      "Epoch 3/9\n",
      "21/21 [==============================] - 13s 618ms/step - loss: 0.6675 - accuracy: 0.5828 - val_loss: 0.6274 - val_accuracy: 0.6443\n",
      "Epoch 4/9\n",
      "21/21 [==============================] - 13s 611ms/step - loss: 0.6527 - accuracy: 0.6101 - val_loss: 0.6115 - val_accuracy: 0.6913\n",
      "Epoch 5/9\n",
      "21/21 [==============================] - 13s 606ms/step - loss: 0.6262 - accuracy: 0.6567 - val_loss: 0.6128 - val_accuracy: 0.7114\n",
      "Epoch 6/9\n",
      "21/21 [==============================] - 13s 605ms/step - loss: 0.6350 - accuracy: 0.6262 - val_loss: 0.5934 - val_accuracy: 0.7047\n",
      "Epoch 7/9\n",
      "21/21 [==============================] - 13s 615ms/step - loss: 0.6334 - accuracy: 0.6478 - val_loss: 0.5941 - val_accuracy: 0.7047\n",
      "Epoch 8/9\n",
      "21/21 [==============================] - 13s 609ms/step - loss: 0.6144 - accuracy: 0.6731 - val_loss: 0.5870 - val_accuracy: 0.7047\n",
      "Epoch 9/9\n",
      "21/21 [==============================] - 13s 605ms/step - loss: 0.6147 - accuracy: 0.6627 - val_loss: 0.6255 - val_accuracy: 0.6577\n",
      "Fold-4\n",
      "Epoch 1/9\n",
      "21/21 [==============================] - 25s 725ms/step - loss: 0.7059 - accuracy: 0.5053 - val_loss: 0.6677 - val_accuracy: 0.6174\n",
      "Epoch 2/9\n",
      "21/21 [==============================] - 13s 616ms/step - loss: 0.6750 - accuracy: 0.5955 - val_loss: 0.6561 - val_accuracy: 0.6107\n",
      "Epoch 3/9\n",
      "21/21 [==============================] - 13s 608ms/step - loss: 0.6724 - accuracy: 0.5820 - val_loss: 0.6365 - val_accuracy: 0.6107\n",
      "Epoch 4/9\n",
      "21/21 [==============================] - 13s 615ms/step - loss: 0.6378 - accuracy: 0.6578 - val_loss: 0.6096 - val_accuracy: 0.6577\n",
      "Epoch 5/9\n",
      "21/21 [==============================] - 13s 610ms/step - loss: 0.6370 - accuracy: 0.6467 - val_loss: 0.6149 - val_accuracy: 0.6510\n",
      "Epoch 6/9\n",
      "21/21 [==============================] - 13s 608ms/step - loss: 0.6153 - accuracy: 0.6698 - val_loss: 0.6189 - val_accuracy: 0.6779\n",
      "Epoch 7/9\n",
      "21/21 [==============================] - 13s 613ms/step - loss: 0.6154 - accuracy: 0.6499 - val_loss: 0.6058 - val_accuracy: 0.6779\n",
      "Epoch 8/9\n",
      "21/21 [==============================] - 13s 608ms/step - loss: 0.6043 - accuracy: 0.6684 - val_loss: 0.5964 - val_accuracy: 0.6846\n",
      "Epoch 9/9\n",
      "21/21 [==============================] - 13s 613ms/step - loss: 0.6084 - accuracy: 0.6679 - val_loss: 0.6456 - val_accuracy: 0.6107\n",
      "Fold-5\n",
      "Epoch 1/9\n",
      "21/21 [==============================] - 25s 797ms/step - loss: 0.6876 - accuracy: 0.5378 - val_loss: 0.6790 - val_accuracy: 0.5839\n",
      "Epoch 2/9\n",
      "21/21 [==============================] - 13s 622ms/step - loss: 0.6674 - accuracy: 0.5890 - val_loss: 0.6747 - val_accuracy: 0.5839\n",
      "Epoch 3/9\n",
      "21/21 [==============================] - 13s 615ms/step - loss: 0.6680 - accuracy: 0.5741 - val_loss: 0.6726 - val_accuracy: 0.5906\n",
      "Epoch 4/9\n",
      "21/21 [==============================] - 13s 614ms/step - loss: 0.6421 - accuracy: 0.6089 - val_loss: 0.6766 - val_accuracy: 0.6174\n",
      "Epoch 5/9\n",
      "21/21 [==============================] - 13s 615ms/step - loss: 0.6377 - accuracy: 0.6045 - val_loss: 0.6572 - val_accuracy: 0.6577\n",
      "Epoch 6/9\n",
      "21/21 [==============================] - 13s 617ms/step - loss: 0.6149 - accuracy: 0.6545 - val_loss: 0.6474 - val_accuracy: 0.6779\n",
      "Epoch 7/9\n",
      "21/21 [==============================] - 13s 617ms/step - loss: 0.5921 - accuracy: 0.6805 - val_loss: 0.6568 - val_accuracy: 0.6040\n",
      "Epoch 8/9\n",
      "21/21 [==============================] - 13s 614ms/step - loss: 0.5898 - accuracy: 0.6885 - val_loss: 0.6411 - val_accuracy: 0.6174\n",
      "Epoch 9/9\n",
      "21/21 [==============================] - 13s 617ms/step - loss: 0.6024 - accuracy: 0.6867 - val_loss: 0.6615 - val_accuracy: 0.6376\n",
      "Fold-6\n",
      "Epoch 1/9\n",
      "21/21 [==============================] - 27s 880ms/step - loss: 0.7170 - accuracy: 0.4907 - val_loss: 0.6876 - val_accuracy: 0.5638\n",
      "Epoch 2/9\n",
      "21/21 [==============================] - 17s 826ms/step - loss: 0.6816 - accuracy: 0.5771 - val_loss: 0.6830 - val_accuracy: 0.5436\n",
      "Epoch 3/9\n",
      "21/21 [==============================] - 17s 815ms/step - loss: 0.6674 - accuracy: 0.5890 - val_loss: 0.6712 - val_accuracy: 0.5772\n",
      "Epoch 4/9\n",
      "21/21 [==============================] - 17s 818ms/step - loss: 0.6544 - accuracy: 0.6120 - val_loss: 0.6708 - val_accuracy: 0.5705\n",
      "Epoch 5/9\n",
      "21/21 [==============================] - 17s 808ms/step - loss: 0.6395 - accuracy: 0.6119 - val_loss: 0.6469 - val_accuracy: 0.5973\n",
      "Epoch 6/9\n",
      "21/21 [==============================] - 17s 816ms/step - loss: 0.6115 - accuracy: 0.6691 - val_loss: 0.6241 - val_accuracy: 0.6644\n",
      "Epoch 7/9\n",
      "21/21 [==============================] - 17s 809ms/step - loss: 0.6161 - accuracy: 0.6464 - val_loss: 0.6228 - val_accuracy: 0.6644\n",
      "Epoch 8/9\n",
      "21/21 [==============================] - 17s 815ms/step - loss: 0.6052 - accuracy: 0.6703 - val_loss: 0.6317 - val_accuracy: 0.6376\n",
      "Epoch 9/9\n",
      "21/21 [==============================] - 17s 811ms/step - loss: 0.6238 - accuracy: 0.6377 - val_loss: 0.6278 - val_accuracy: 0.6309\n",
      "Fold-7\n",
      "Epoch 1/9\n",
      "21/21 [==============================] - 31s 1s/step - loss: 0.7088 - accuracy: 0.5158 - val_loss: 0.6739 - val_accuracy: 0.5772\n",
      "Epoch 2/9\n",
      "21/21 [==============================] - 18s 861ms/step - loss: 0.6646 - accuracy: 0.5867 - val_loss: 0.6591 - val_accuracy: 0.6107\n",
      "Epoch 3/9\n",
      "21/21 [==============================] - 18s 882ms/step - loss: 0.6465 - accuracy: 0.6283 - val_loss: 0.6622 - val_accuracy: 0.5839\n",
      "Epoch 4/9\n",
      "21/21 [==============================] - 18s 871ms/step - loss: 0.6392 - accuracy: 0.6297 - val_loss: 0.6394 - val_accuracy: 0.5906\n",
      "Epoch 5/9\n",
      "21/21 [==============================] - 18s 865ms/step - loss: 0.6222 - accuracy: 0.6629 - val_loss: 0.6507 - val_accuracy: 0.5906\n",
      "Epoch 6/9\n",
      "21/21 [==============================] - 18s 865ms/step - loss: 0.6139 - accuracy: 0.6461 - val_loss: 0.6285 - val_accuracy: 0.6107\n",
      "Epoch 7/9\n",
      "21/21 [==============================] - 18s 879ms/step - loss: 0.6147 - accuracy: 0.6479 - val_loss: 0.6200 - val_accuracy: 0.6577\n",
      "Epoch 8/9\n",
      "21/21 [==============================] - 19s 891ms/step - loss: 0.5933 - accuracy: 0.6727 - val_loss: 0.6427 - val_accuracy: 0.6510\n",
      "Epoch 9/9\n",
      "21/21 [==============================] - 19s 887ms/step - loss: 0.6266 - accuracy: 0.6472 - val_loss: 0.6369 - val_accuracy: 0.6577\n",
      "Fold-8\n",
      "Epoch 1/9\n",
      "21/21 [==============================] - 28s 1s/step - loss: 0.6902 - accuracy: 0.5373 - val_loss: 0.6852 - val_accuracy: 0.5705\n",
      "Epoch 2/9\n",
      "21/21 [==============================] - 19s 889ms/step - loss: 0.6757 - accuracy: 0.5947 - val_loss: 0.6763 - val_accuracy: 0.5772\n",
      "Epoch 3/9\n",
      "21/21 [==============================] - 19s 888ms/step - loss: 0.6635 - accuracy: 0.6061 - val_loss: 0.6576 - val_accuracy: 0.6107\n",
      "Epoch 4/9\n",
      "21/21 [==============================] - 18s 883ms/step - loss: 0.6365 - accuracy: 0.6406 - val_loss: 0.6653 - val_accuracy: 0.5906\n",
      "Epoch 5/9\n",
      "21/21 [==============================] - 18s 877ms/step - loss: 0.6409 - accuracy: 0.6247 - val_loss: 0.6077 - val_accuracy: 0.6980\n",
      "Epoch 6/9\n",
      "21/21 [==============================] - 19s 896ms/step - loss: 0.6341 - accuracy: 0.6419 - val_loss: 0.6236 - val_accuracy: 0.6980\n",
      "Epoch 7/9\n",
      "21/21 [==============================] - 19s 905ms/step - loss: 0.6077 - accuracy: 0.6844 - val_loss: 0.6105 - val_accuracy: 0.6644\n",
      "Epoch 8/9\n",
      "21/21 [==============================] - 20s 943ms/step - loss: 0.6214 - accuracy: 0.6612 - val_loss: 0.5974 - val_accuracy: 0.6644\n",
      "Epoch 9/9\n",
      "21/21 [==============================] - 19s 884ms/step - loss: 0.6009 - accuracy: 0.6816 - val_loss: 0.6127 - val_accuracy: 0.6913\n",
      "Fold-9\n",
      "Epoch 1/9\n",
      "21/21 [==============================] - 26s 860ms/step - loss: 0.6935 - accuracy: 0.5032 - val_loss: 0.6761 - val_accuracy: 0.5772\n",
      "Epoch 2/9\n",
      "21/21 [==============================] - 16s 765ms/step - loss: 0.6713 - accuracy: 0.5879 - val_loss: 0.6598 - val_accuracy: 0.5973\n",
      "Epoch 3/9\n",
      "21/21 [==============================] - 16s 759ms/step - loss: 0.6717 - accuracy: 0.5741 - val_loss: 0.6318 - val_accuracy: 0.6309\n",
      "Epoch 4/9\n",
      "21/21 [==============================] - 16s 764ms/step - loss: 0.6495 - accuracy: 0.6284 - val_loss: 0.6023 - val_accuracy: 0.6577\n",
      "Epoch 5/9\n",
      "21/21 [==============================] - 16s 760ms/step - loss: 0.6539 - accuracy: 0.6277 - val_loss: 0.6003 - val_accuracy: 0.6779\n",
      "Epoch 6/9\n",
      "21/21 [==============================] - 16s 764ms/step - loss: 0.6350 - accuracy: 0.6497 - val_loss: 0.5882 - val_accuracy: 0.6913\n",
      "Epoch 7/9\n",
      "21/21 [==============================] - 16s 763ms/step - loss: 0.6181 - accuracy: 0.6794 - val_loss: 0.5752 - val_accuracy: 0.6913\n",
      "Epoch 8/9\n",
      "21/21 [==============================] - 16s 760ms/step - loss: 0.6367 - accuracy: 0.6473 - val_loss: 0.5890 - val_accuracy: 0.6913\n",
      "Epoch 9/9\n",
      "21/21 [==============================] - 16s 768ms/step - loss: 0.5940 - accuracy: 0.6825 - val_loss: 0.5720 - val_accuracy: 0.6913\n",
      "Fold-10\n",
      "Epoch 1/9\n",
      "21/21 [==============================] - 27s 936ms/step - loss: 0.6988 - accuracy: 0.5045 - val_loss: 0.6615 - val_accuracy: 0.6174\n",
      "Epoch 2/9\n",
      "21/21 [==============================] - 16s 774ms/step - loss: 0.6793 - accuracy: 0.5718 - val_loss: 0.6497 - val_accuracy: 0.6242\n",
      "Epoch 3/9\n",
      "21/21 [==============================] - 16s 771ms/step - loss: 0.6610 - accuracy: 0.5900 - val_loss: 0.6378 - val_accuracy: 0.5973\n",
      "Epoch 4/9\n",
      "21/21 [==============================] - 16s 773ms/step - loss: 0.6751 - accuracy: 0.5684 - val_loss: 0.6124 - val_accuracy: 0.7047\n",
      "Epoch 5/9\n",
      "21/21 [==============================] - 16s 774ms/step - loss: 0.6435 - accuracy: 0.6207 - val_loss: 0.5884 - val_accuracy: 0.6644\n",
      "Epoch 6/9\n",
      "21/21 [==============================] - 16s 770ms/step - loss: 0.6190 - accuracy: 0.6452 - val_loss: 0.5907 - val_accuracy: 0.6779\n",
      "Epoch 7/9\n",
      "21/21 [==============================] - 17s 794ms/step - loss: 0.6234 - accuracy: 0.6416 - val_loss: 0.5996 - val_accuracy: 0.6510\n",
      "Epoch 8/9\n",
      "21/21 [==============================] - 16s 775ms/step - loss: 0.6250 - accuracy: 0.6286 - val_loss: 0.5685 - val_accuracy: 0.7248\n",
      "Epoch 9/9\n",
      "21/21 [==============================] - 16s 777ms/step - loss: 0.6082 - accuracy: 0.6687 - val_loss: 0.5676 - val_accuracy: 0.6913\n",
      "10-Fold Accuracy: 0.6709172248840332 %\n"
     ]
    }
   ],
   "source": [
    "kcv_accuracy = []\n",
    "batch_size = 64\n",
    "\n",
    "earlystopping = callbacks.EarlyStopping(monitor =\"val_loss\",  \n",
    "                                        mode =\"min\", patience = 4,  \n",
    "                                        restore_best_weights = True)\n",
    "\n",
    "def kfold_cv(kfolds, train_data, train_labels):\n",
    "    kf = StratifiedKFold(n_splits=kfolds)\n",
    "    kf.get_n_splits(train_data, train_labels)\n",
    "    kcv_train_indexes = []\n",
    "    kcv_test_indexes = []\n",
    "    \n",
    "    recoded_train_labels = reverse_encode(train_labels)\n",
    "    oned_train_labels = np.array(list(map(lambda x: 1 if x==\"pos\" else 0, recoded_train_labels)))\n",
    "    \n",
    "    for train_idx, test_idx in kf.split(train_data, oned_train_labels):\n",
    "        kcv_train_indexes.append(train_idx)\n",
    "        kcv_test_indexes.append(test_idx)\n",
    "        \n",
    "    for i in range(kfolds):\n",
    "        print(\"Fold-{}\".format(i+1))\n",
    "        cvmodel = get_model()\n",
    "        kcv_train, kcv_train_labels = train_data[kcv_train_indexes[i]], train_labels[kcv_train_indexes[i]]\n",
    "        kcv_test, kcv_test_labels = train_data[kcv_test_indexes[i]], train_labels[kcv_test_indexes[i]]\n",
    "        history = cvmodel.fit(kcv_train, kcv_train_labels, epochs=9, batch_size=batch_size, verbose=1, \n",
    "                              validation_data=(kcv_test, kcv_test_labels), callbacks=[earlystopping])\n",
    "        min_loss = min(history.history['val_loss'])\n",
    "        min_loss_idx = history.history['val_loss'].index(min_loss)\n",
    "        kcv_accuracy.append(history.history['val_accuracy'][min_loss_idx])\n",
    "        backend.clear_session()\n",
    "    \n",
    "    kcv_score = 0.0\n",
    "    for res in kcv_accuracy:\n",
    "        kcv_score += res\n",
    "    kcv_score = kcv_score / len(kcv_accuracy)\n",
    "    \n",
    "    return kcv_score\n",
    "    \n",
    "#kfold_cv(10, data, target_train)\n",
    "kfold_score = kfold_cv(10, data, target_train)\n",
    "print(\"10-Fold Accuracy: {} %\".format(kfold_score))"
   ]
  },
  {
   "cell_type": "code",
   "execution_count": 74,
   "metadata": {},
   "outputs": [],
   "source": [
    "backend.clear_session()"
   ]
  },
  {
   "cell_type": "code",
   "execution_count": null,
   "metadata": {},
   "outputs": [],
   "source": []
  }
 ],
 "metadata": {
  "kernelspec": {
   "display_name": "Python 3",
   "language": "python",
   "name": "python3"
  },
  "language_info": {
   "codemirror_mode": {
    "name": "ipython",
    "version": 3
   },
   "file_extension": ".py",
   "mimetype": "text/x-python",
   "name": "python",
   "nbconvert_exporter": "python",
   "pygments_lexer": "ipython3",
   "version": "3.8.5"
  }
 },
 "nbformat": 4,
 "nbformat_minor": 4
}
